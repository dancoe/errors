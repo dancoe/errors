{
 "cells": [
  {
   "cell_type": "markdown",
   "id": "00f21557",
   "metadata": {},
   "source": [
    "We split our observations into two pointings in order to cover the wavelength gap and observe more targets:\n",
    "* Pointing 1: standard 3-shutter slitlets and nods\n",
    "* Pointing 2: single shutter slitlets with 2 dithers + master background slitlets added by manually editing the configuration\n",
    "\n",
    "03101: c1: 3 shutter slitlet, 1 integration each\n",
    "\n",
    "03103: 16b...exp1: single slitlet, 2 integrations  \n",
    "03105: 16b...exp2: single slitlet, 2 integrations"
   ]
  },
  {
   "cell_type": "code",
   "execution_count": 1,
   "id": "85136e1c",
   "metadata": {},
   "outputs": [],
   "source": [
    "import os\n",
    "home = os.path.expanduser(\"~\")"
   ]
  },
  {
   "cell_type": "code",
   "execution_count": 2,
   "id": "7c41ca00",
   "metadata": {},
   "outputs": [
    {
     "data": {
      "text/plain": [
       "'11.17.22'"
      ]
     },
     "execution_count": 2,
     "metadata": {},
     "output_type": "execute_result"
    }
   ],
   "source": [
    "import crds\n",
    "crds.__version__"
   ]
  },
  {
   "cell_type": "code",
   "execution_count": 3,
   "id": "f8875c98",
   "metadata": {},
   "outputs": [],
   "source": [
    "os.environ[\"CRDS_PATH\"] = os.path.join(home, \"crds_cache\")\n",
    "os.environ['CRDS_SERVER_URL'] = 'https://jwst-crds.stsci.edu'"
   ]
  },
  {
   "cell_type": "code",
   "execution_count": 4,
   "id": "2ef5058c",
   "metadata": {},
   "outputs": [
    {
     "ename": "ServiceError",
     "evalue": "Configured for server-less mode.  Skipping JSON RPC 'get_default_context'",
     "output_type": "error",
     "traceback": [
      "\u001b[0;31m---------------------------------------------------------------------------\u001b[0m",
      "\u001b[0;31mServiceError\u001b[0m                              Traceback (most recent call last)",
      "Cell \u001b[0;32mIn[4], line 1\u001b[0m\n\u001b[0;32m----> 1\u001b[0m \u001b[43mcrds\u001b[49m\u001b[38;5;241;43m.\u001b[39;49m\u001b[43mget_default_context\u001b[49m\u001b[43m(\u001b[49m\u001b[43m)\u001b[49m\n",
      "File \u001b[0;32m~/miniconda3/envs/jwst_1.14.0/lib/python3.11/site-packages/crds/core/utils.py:306\u001b[0m, in \u001b[0;36mCachedFunction.__call__\u001b[0;34m(self, *args, **keys)\u001b[0m\n\u001b[1;32m    302\u001b[0m \u001b[38;5;28;01mdef\u001b[39;00m \u001b[38;5;21m__call__\u001b[39m(\u001b[38;5;28mself\u001b[39m, \u001b[38;5;241m*\u001b[39margs, \u001b[38;5;241m*\u001b[39m\u001b[38;5;241m*\u001b[39mkeys):\n\u001b[1;32m    303\u001b[0m \u001b[38;5;250m    \u001b[39m\u001b[38;5;124;03m\"\"\"Compute or fetch func(*args, **keys).  Add the result to the cache.\u001b[39;00m\n\u001b[1;32m    304\u001b[0m \u001b[38;5;124;03m    return func(*args, **keys)\u001b[39;00m\n\u001b[1;32m    305\u001b[0m \u001b[38;5;124;03m    \"\"\"\u001b[39;00m\n\u001b[0;32m--> 306\u001b[0m     key, result \u001b[38;5;241m=\u001b[39m \u001b[38;5;28;43mself\u001b[39;49m\u001b[38;5;241;43m.\u001b[39;49m\u001b[43m_readonly\u001b[49m\u001b[43m(\u001b[49m\u001b[38;5;241;43m*\u001b[39;49m\u001b[43margs\u001b[49m\u001b[43m,\u001b[49m\u001b[43m \u001b[49m\u001b[38;5;241;43m*\u001b[39;49m\u001b[38;5;241;43m*\u001b[39;49m\u001b[43mkeys\u001b[49m\u001b[43m)\u001b[49m\n\u001b[1;32m    307\u001b[0m     \u001b[38;5;28mself\u001b[39m\u001b[38;5;241m.\u001b[39mcache[key] \u001b[38;5;241m=\u001b[39m result\n\u001b[1;32m    308\u001b[0m     \u001b[38;5;28;01mreturn\u001b[39;00m result\n",
      "File \u001b[0;32m~/miniconda3/envs/jwst_1.14.0/lib/python3.11/site-packages/crds/core/utils.py:293\u001b[0m, in \u001b[0;36mCachedFunction._readonly\u001b[0;34m(self, *args, **keys)\u001b[0m\n\u001b[1;32m    291\u001b[0m \u001b[38;5;28;01melse\u001b[39;00m:\n\u001b[1;32m    292\u001b[0m     log\u001b[38;5;241m.\u001b[39mverbose(\u001b[38;5;124m\"\u001b[39m\u001b[38;5;124mUncached call\u001b[39m\u001b[38;5;124m\"\u001b[39m, \u001b[38;5;28mself\u001b[39m\u001b[38;5;241m.\u001b[39muncached\u001b[38;5;241m.\u001b[39m\u001b[38;5;18m__name__\u001b[39m, \u001b[38;5;28mrepr\u001b[39m(key), verbosity\u001b[38;5;241m=\u001b[39m\u001b[38;5;241m80\u001b[39m)\n\u001b[0;32m--> 293\u001b[0m     \u001b[38;5;28;01mreturn\u001b[39;00m key, \u001b[38;5;28;43mself\u001b[39;49m\u001b[38;5;241;43m.\u001b[39;49m\u001b[43muncached\u001b[49m\u001b[43m(\u001b[49m\u001b[38;5;241;43m*\u001b[39;49m\u001b[43margs\u001b[49m\u001b[43m,\u001b[49m\u001b[43m \u001b[49m\u001b[38;5;241;43m*\u001b[39;49m\u001b[38;5;241;43m*\u001b[39;49m\u001b[43mkeys\u001b[49m\u001b[43m)\u001b[49m\n",
      "File \u001b[0;32m~/miniconda3/envs/jwst_1.14.0/lib/python3.11/site-packages/crds/client/api.py:315\u001b[0m, in \u001b[0;36mget_default_context\u001b[0;34m(observatory)\u001b[0m\n\u001b[1;32m    310\u001b[0m \u001b[38;5;129m@utils\u001b[39m\u001b[38;5;241m.\u001b[39mcached\n\u001b[1;32m    311\u001b[0m \u001b[38;5;28;01mdef\u001b[39;00m \u001b[38;5;21mget_default_context\u001b[39m(observatory\u001b[38;5;241m=\u001b[39m\u001b[38;5;28;01mNone\u001b[39;00m):\n\u001b[1;32m    312\u001b[0m \u001b[38;5;250m    \u001b[39m\u001b[38;5;124;03m\"\"\"Return the name of the latest pipeline mapping in use for processing\u001b[39;00m\n\u001b[1;32m    313\u001b[0m \u001b[38;5;124;03m    files for `observatory`.\u001b[39;00m\n\u001b[1;32m    314\u001b[0m \u001b[38;5;124;03m    \"\"\"\u001b[39;00m\n\u001b[0;32m--> 315\u001b[0m     \u001b[38;5;28;01mreturn\u001b[39;00m \u001b[38;5;28mstr\u001b[39m(\u001b[43mS\u001b[49m\u001b[38;5;241;43m.\u001b[39;49m\u001b[43mget_default_context\u001b[49m\u001b[43m(\u001b[49m\u001b[43mobservatory\u001b[49m\u001b[43m)\u001b[49m)\n",
      "File \u001b[0;32m~/miniconda3/envs/jwst_1.14.0/lib/python3.11/site-packages/crds/client/proxy.py:157\u001b[0m, in \u001b[0;36mServiceCallBinding.__call__\u001b[0;34m(self, *args, **kwargs)\u001b[0m\n\u001b[1;32m    156\u001b[0m \u001b[38;5;28;01mdef\u001b[39;00m \u001b[38;5;21m__call__\u001b[39m(\u001b[38;5;28mself\u001b[39m, \u001b[38;5;241m*\u001b[39margs, \u001b[38;5;241m*\u001b[39m\u001b[38;5;241m*\u001b[39mkwargs):\n\u001b[0;32m--> 157\u001b[0m     jsonrpc \u001b[38;5;241m=\u001b[39m \u001b[38;5;28;43mself\u001b[39;49m\u001b[38;5;241;43m.\u001b[39;49m\u001b[43m_call\u001b[49m\u001b[43m(\u001b[49m\u001b[38;5;241;43m*\u001b[39;49m\u001b[43margs\u001b[49m\u001b[43m,\u001b[49m\u001b[43m \u001b[49m\u001b[38;5;241;43m*\u001b[39;49m\u001b[38;5;241;43m*\u001b[39;49m\u001b[43mkwargs\u001b[49m\u001b[43m)\u001b[49m\n\u001b[1;32m    158\u001b[0m     \u001b[38;5;28;01mif\u001b[39;00m jsonrpc[\u001b[38;5;124m\"\u001b[39m\u001b[38;5;124merror\u001b[39m\u001b[38;5;124m\"\u001b[39m]:\n\u001b[1;32m    159\u001b[0m         decoded \u001b[38;5;241m=\u001b[39m html\u001b[38;5;241m.\u001b[39munescape(jsonrpc[\u001b[38;5;124m\"\u001b[39m\u001b[38;5;124merror\u001b[39m\u001b[38;5;124m\"\u001b[39m][\u001b[38;5;124m\"\u001b[39m\u001b[38;5;124mmessage\u001b[39m\u001b[38;5;124m\"\u001b[39m])\n",
      "File \u001b[0;32m~/miniconda3/envs/jwst_1.14.0/lib/python3.11/site-packages/crds/client/proxy.py:121\u001b[0m, in \u001b[0;36mServiceCallBinding._call\u001b[0;34m(self, *args, **kwargs)\u001b[0m\n\u001b[1;32m    118\u001b[0m url \u001b[38;5;241m=\u001b[39m \u001b[38;5;28mself\u001b[39m\u001b[38;5;241m.\u001b[39m_get_url(jsonrpc_params)\n\u001b[1;32m    120\u001b[0m \u001b[38;5;28;01mif\u001b[39;00m \u001b[38;5;124m\"\u001b[39m\u001b[38;5;124mserverless\u001b[39m\u001b[38;5;124m\"\u001b[39m \u001b[38;5;129;01min\u001b[39;00m url \u001b[38;5;129;01mor\u001b[39;00m \u001b[38;5;124m\"\u001b[39m\u001b[38;5;124mserver-less\u001b[39m\u001b[38;5;124m\"\u001b[39m \u001b[38;5;129;01min\u001b[39;00m url:\n\u001b[0;32m--> 121\u001b[0m     \u001b[38;5;28;01mraise\u001b[39;00m exceptions\u001b[38;5;241m.\u001b[39mServiceError(\u001b[38;5;124m\"\u001b[39m\u001b[38;5;124mConfigured for server-less mode.  Skipping JSON RPC \u001b[39m\u001b[38;5;124m\"\u001b[39m \u001b[38;5;241m+\u001b[39m \u001b[38;5;28mrepr\u001b[39m(\u001b[38;5;28mself\u001b[39m\u001b[38;5;241m.\u001b[39m__service_name))\n\u001b[1;32m    123\u001b[0m \u001b[38;5;28;01mif\u001b[39;00m log\u001b[38;5;241m.\u001b[39mget_verbose() \u001b[38;5;241m<\u001b[39m\u001b[38;5;241m=\u001b[39m \u001b[38;5;241m50\u001b[39m:\n\u001b[1;32m    124\u001b[0m     log\u001b[38;5;241m.\u001b[39mverbose(\u001b[38;5;124m\"\u001b[39m\u001b[38;5;124mCRDS JSON RPC\u001b[39m\u001b[38;5;124m\"\u001b[39m, \u001b[38;5;28mself\u001b[39m\u001b[38;5;241m.\u001b[39m__service_name, params \u001b[38;5;28;01mif\u001b[39;00m \u001b[38;5;28mlen\u001b[39m(\u001b[38;5;28mstr\u001b[39m(params)) \u001b[38;5;241m<\u001b[39m\u001b[38;5;241m=\u001b[39m \u001b[38;5;241m60\u001b[39m \u001b[38;5;28;01melse\u001b[39;00m \u001b[38;5;124m\"\u001b[39m\u001b[38;5;124m(...)\u001b[39m\u001b[38;5;124m\"\u001b[39m, \u001b[38;5;124m\"\u001b[39m\u001b[38;5;124m-->\u001b[39m\u001b[38;5;124m\"\u001b[39m)\n",
      "\u001b[0;31mServiceError\u001b[0m: Configured for server-less mode.  Skipping JSON RPC 'get_default_context'"
     ]
    }
   ],
   "source": [
    "crds.get_default_context()"
   ]
  },
  {
   "cell_type": "code",
   "execution_count": 5,
   "id": "f568b7a3",
   "metadata": {},
   "outputs": [],
   "source": [
    "import os\n",
    "home = os.path.expanduser(\"~\")\n",
    "from glob import glob\n",
    "import numpy as np\n",
    "from astropy.io import fits\n",
    "from astropy.table import Table, vstack, unique"
   ]
  },
  {
   "cell_type": "code",
   "execution_count": 6,
   "id": "0fa5f54e",
   "metadata": {},
   "outputs": [
    {
     "name": "stdout",
     "output_type": "stream",
     "text": [
      "CRDS cache location: /Users/dcoe/crds_cache\n",
      "CRDS server not found (are you offline?)\n"
     ]
    }
   ],
   "source": [
    "# ---------- Set CRDS environment variables ----------\n",
    "# Define CRDS paths *before* importing jwst pipeline\n",
    "# otherwise you'll get FileNotFoundError: [Errno 2] :\n",
    "# No such file or directory: '$HOME/crds_cache/config/jwst/server_config'\n",
    "\n",
    "#import os\n",
    "#home = os.path.expanduser(\"~\")\n",
    "import crds\n",
    "#os.environ['CRDS_CONTEXT'] = 'jwst_1235.pmap'\n",
    "os.environ[\"CRDS_PATH\"] = os.path.join(home, \"crds_cache\")\n",
    "os.makedirs(os.environ['CRDS_PATH'], exist_ok=True)\n",
    "print(f'CRDS cache location: {os.environ[\"CRDS_PATH\"]}')\n",
    "os.environ['CRDS_SERVER_URL'] = 'https://jwst-crds.stsci.edu'\n",
    "#os.environ['CRDS_MODE'] = 'remote'  # or 'local' if running in server-less mode\n",
    "#os.environ['CRDS_MODE'] = 'local'  # server-less mode\n",
    "\n",
    "try:\n",
    "    print(f\"Current Operational CRDS Context = {crds.get_default_context()}\")\n",
    "except Exception:\n",
    "    print('CRDS server not found (are you offline?)')"
   ]
  },
  {
   "cell_type": "code",
   "execution_count": 7,
   "id": "e15a25fd",
   "metadata": {},
   "outputs": [
    {
     "name": "stdout",
     "output_type": "stream",
     "text": [
      "CRDS Context: jwst_1223.pmap\n"
     ]
    }
   ],
   "source": [
    "print('CRDS Context:', crds.get_context_name('jwst'))"
   ]
  },
  {
   "cell_type": "raw",
   "id": "8c1e5c56",
   "metadata": {},
   "source": [
    "CrdsDownloadError: Failed caching mapping files: Configured for server-less mode.  Skipping JSON RPC 'get_mapping_names'"
   ]
  },
  {
   "cell_type": "code",
   "execution_count": 8,
   "id": "9509657a",
   "metadata": {},
   "outputs": [],
   "source": [
    "#crds.getreferences({'INSTRUMENT': 'NIRSpec'}, context='jwst_1235.pmap')"
   ]
  },
  {
   "cell_type": "code",
   "execution_count": 9,
   "id": "a35a3dde",
   "metadata": {},
   "outputs": [],
   "source": [
    "#from crds.list import ListScript\n",
    "#ListScript().list_status()"
   ]
  },
  {
   "cell_type": "code",
   "execution_count": 10,
   "id": "4d34d223",
   "metadata": {},
   "outputs": [
    {
     "name": "stdout",
     "output_type": "stream",
     "text": [
      "JWST Calibration Pipeline Version = 1.14.0\n"
     ]
    }
   ],
   "source": [
    "# Import JWST pipeline\n",
    "\n",
    "import jwst\n",
    "from jwst import datamodels\n",
    "from jwst.pipeline import Detector1Pipeline   # calwebb_detector1\n",
    "from jwst.pipeline import Spec2Pipeline       # calwebb_spec2\n",
    "from jwst.pipeline import Spec3Pipeline       # calwebb_spec3\n",
    "from jwst.extract_1d import Extract1dStep     # Extract1D Individual Step\n",
    "from jwst.associations import asn_from_list   # create association file\n",
    "\n",
    "# Note if you're using a development version,\n",
    "# it might not report the correct version number here.\n",
    "print(\"JWST Calibration Pipeline Version = {}\".format(jwst.__version__))"
   ]
  },
  {
   "cell_type": "code",
   "execution_count": null,
   "id": "59958a15",
   "metadata": {},
   "outputs": [],
   "source": []
  },
  {
   "cell_type": "code",
   "execution_count": 11,
   "id": "69d92152",
   "metadata": {},
   "outputs": [],
   "source": [
    "rate_dir = 'reprocess'"
   ]
  },
  {
   "cell_type": "code",
   "execution_count": 12,
   "id": "891dd0ab",
   "metadata": {},
   "outputs": [],
   "source": [
    "output_dir = 'reprocess/master-background'  # master background slitlets\n",
    "os.makedirs(output_dir, exist_ok=True)"
   ]
  },
  {
   "cell_type": "code",
   "execution_count": 13,
   "id": "d5b4e550",
   "metadata": {},
   "outputs": [],
   "source": [
    "def allin(elements, list_or_string):\n",
    "    if type(elements) == str:\n",
    "        elements = elements.split()\n",
    "    for element in elements:\n",
    "        if element not in list_or_string:\n",
    "            return False\n",
    "    return True\n",
    "\n",
    "def anyin(elements, list_or_string):\n",
    "    if type(elements) == str:\n",
    "        elements = elements.split()\n",
    "    for element in elements:\n",
    "        if element in list_or_string:\n",
    "            return True\n",
    "    return False\n",
    "\n",
    "# Select subset of files containing all search strings\n",
    "def select_files(all_files, search_strings=[], exclude_strings=[]):\n",
    "    chosen_files = [file for file in all_files if allin(search_strings, file) and not anyin(exclude_strings, file)]\n",
    "    if len(chosen_files) == 1:\n",
    "        chosen_files = chosen_files[0]\n",
    "    return chosen_files    "
   ]
  },
  {
   "cell_type": "code",
   "execution_count": 14,
   "id": "a25075dc",
   "metadata": {},
   "outputs": [],
   "source": [
    "# Create links in output_dir directory to source files\n",
    "def link_to_files(source_files, output_dir):\n",
    "    links = []\n",
    "    for source_file in source_files:\n",
    "        link = os.path.join(output_dir, os.path.basename(source_file))\n",
    "        print(link, '->', source_file)\n",
    "        if not os.path.exists(link):\n",
    "            os.symlink(os.path.abspath(source_file), link)\n",
    "        links.append(link)\n",
    "    return links"
   ]
  },
  {
   "cell_type": "code",
   "execution_count": 15,
   "id": "d35a51bc",
   "metadata": {},
   "outputs": [],
   "source": [
    "def is_negative(x):\n",
    "    return x < 0\n",
    "\n",
    "def filter_table(full_table, **kwargs):\n",
    "    \"\"\"\n",
    "    Filters an Astropy Table based on the given pairs of column,value or column,function.\n",
    "\n",
    "    Parameters:\n",
    "    - full_table (Table): The input Astropy Table.\n",
    "    - **kwargs: Arbitrary number of pairs for filtering. \n",
    "                Each should be in the format column_name=value (or function)\n",
    "\n",
    "    Returns:\n",
    "    - Table: The filtered Astropy Table.\n",
    "\n",
    "    Example Usage:\n",
    "    >>> filtered_table = filter_table(full_table, column1=value1, column2=function2)\n",
    "    \"\"\"\n",
    "    filtered_table = full_table  # start with the full table\n",
    "    for column, condition in kwargs.items():\n",
    "        if callable(condition):  # Check if the condition is a function\n",
    "            filtered_table = filtered_table[condition(filtered_table[column])]\n",
    "        else:\n",
    "            filtered_table = filtered_table[filtered_table[column] == condition]        \n",
    "    return filtered_table"
   ]
  },
  {
   "cell_type": "code",
   "execution_count": 16,
   "id": "9a557b83",
   "metadata": {},
   "outputs": [
    {
     "data": {
      "text/plain": [
       "['reprocess/jw04246003001_03105_00001_nrs1_rate.fits',\n",
       " 'reprocess/jw04246003001_03105_00001_nrs2_rate.fits',\n",
       " 'reprocess/test_jw04246003001_03105_00001_nrs2_rate.fits']"
      ]
     },
     "execution_count": 16,
     "metadata": {},
     "output_type": "execute_result"
    }
   ],
   "source": [
    "rate_files = sorted(glob(os.path.join(rate_dir,    '*_rate.fits')))\n",
    "rate_files = select_files(rate_files, ['_03105'])  # 03101 03103 03105\n",
    "rate_files"
   ]
  },
  {
   "cell_type": "code",
   "execution_count": 17,
   "id": "9eb3307d",
   "metadata": {},
   "outputs": [
    {
     "name": "stdout",
     "output_type": "stream",
     "text": [
      "reprocess/master-background/jw04246003001_03105_00001_nrs1_rate.fits -> reprocess/jw04246003001_03105_00001_nrs1_rate.fits\n",
      "reprocess/master-background/jw04246003001_03105_00001_nrs2_rate.fits -> reprocess/jw04246003001_03105_00001_nrs2_rate.fits\n",
      "reprocess/master-background/test_jw04246003001_03105_00001_nrs2_rate.fits -> reprocess/test_jw04246003001_03105_00001_nrs2_rate.fits\n"
     ]
    },
    {
     "data": {
      "text/plain": [
       "['reprocess/master-background/jw04246003001_03105_00001_nrs1_rate.fits',\n",
       " 'reprocess/master-background/jw04246003001_03105_00001_nrs2_rate.fits',\n",
       " 'reprocess/master-background/test_jw04246003001_03105_00001_nrs2_rate.fits']"
      ]
     },
     "execution_count": 17,
     "metadata": {},
     "output_type": "execute_result"
    }
   ],
   "source": [
    "link_to_files(rate_files, output_dir)"
   ]
  },
  {
   "cell_type": "code",
   "execution_count": 18,
   "id": "f181b14a",
   "metadata": {},
   "outputs": [
    {
     "name": "stdout",
     "output_type": "stream",
     "text": [
      "reprocess/master-background/jw04246003001_03105_00001_nrs1_rate.fits -> reprocess/jw04246003001_03105_00001_nrs1_rate.fits\n",
      "reprocess/master-background/jw04246003001_03105_00001_nrs2_rate.fits -> reprocess/jw04246003001_03105_00001_nrs2_rate.fits\n",
      "reprocess/master-background/test_jw04246003001_03105_00001_nrs2_rate.fits -> reprocess/test_jw04246003001_03105_00001_nrs2_rate.fits\n"
     ]
    },
    {
     "data": {
      "text/plain": [
       "['reprocess/master-background/jw04246003001_03105_00001_nrs1_rate.fits',\n",
       " 'reprocess/master-background/jw04246003001_03105_00001_nrs2_rate.fits',\n",
       " 'reprocess/master-background/test_jw04246003001_03105_00001_nrs2_rate.fits']"
      ]
     },
     "execution_count": 18,
     "metadata": {},
     "output_type": "execute_result"
    }
   ],
   "source": [
    "rate_file_links = link_to_files(rate_files, output_dir)\n",
    "rate_file_links"
   ]
  },
  {
   "cell_type": "code",
   "execution_count": 19,
   "id": "b110b054",
   "metadata": {},
   "outputs": [
    {
     "data": {
      "text/plain": [
       "['reprocess/jw04246003001_03105_00001_nrs1_rate.fits',\n",
       " 'reprocess/jw04246003001_03105_00001_nrs2_rate.fits',\n",
       " 'reprocess/test_jw04246003001_03105_00001_nrs2_rate.fits']"
      ]
     },
     "execution_count": 19,
     "metadata": {},
     "output_type": "execute_result"
    }
   ],
   "source": [
    "rate_files"
   ]
  },
  {
   "cell_type": "code",
   "execution_count": 20,
   "id": "6f906d10",
   "metadata": {},
   "outputs": [
    {
     "name": "stdout",
     "output_type": "stream",
     "text": [
      "jw04246003001_03105_00001_nrs1_rate.fits jw04246003001_03_msa.fits\n",
      "jw04246003001_03105_00001_nrs2_rate.fits jw04246003001_03_msa.fits\n",
      "test_jw04246003001_03105_00001_nrs2_rate.fits jw04246003001_03_msa.fits\n"
     ]
    }
   ],
   "source": [
    "msa_metafiles = []\n",
    "for rate_file in rate_files:\n",
    "    try:\n",
    "        msa_metafile = fits.getval(rate_file, 'MSAMETFL')\n",
    "        print(os.path.basename(rate_file), msa_metafile)\n",
    "        msa_metafiles.append(msa_metafile)\n",
    "    except:\n",
    "        print(os.path.basename(rate_file))"
   ]
  },
  {
   "cell_type": "code",
   "execution_count": 21,
   "id": "cb196fae",
   "metadata": {},
   "outputs": [],
   "source": [
    "#msa_metafiles = sorted(glob(os.path.join(rate_dir,  '*_msa.fits')))\n",
    "#msa_metafiles"
   ]
  },
  {
   "cell_type": "code",
   "execution_count": 22,
   "id": "1c927b78",
   "metadata": {},
   "outputs": [],
   "source": [
    "#for msa_metafile in msa_metafiles:\n",
    "#    msa_hdu_list = fits.open(msa_metafile)\n",
    "#    msa_hdu_list.info()"
   ]
  },
  {
   "cell_type": "code",
   "execution_count": 23,
   "id": "fb11299d",
   "metadata": {},
   "outputs": [
    {
     "name": "stdout",
     "output_type": "stream",
     "text": [
      "Filename: reprocess/jw04246003001_03_msa.fits\n",
      "No.    Name      Ver    Type      Cards   Dimensions   Format\n",
      "  0  PRIMARY       1 PrimaryHDU      16   ()      \n",
      "  1  SHUTTER_IMAGE    1 ImageHDU         8   (342, 730)   int16   \n",
      "  2  SHUTTER_INFO    1 BinTableHDU     33   636R x 12C   [I, I, I, I, I, J, 1A, 6A, E, E, I, 1A]   \n",
      "  3  SOURCE_INFO    1 BinTableHDU     25   179R x 8C   [J, J, 20A, 31A, D, D, 30A, D]   \n"
     ]
    }
   ],
   "source": [
    "msa_hdu_list = fits.open(os.path.join(rate_dir, msa_metafile))\n",
    "msa_hdu_list.info()"
   ]
  },
  {
   "cell_type": "code",
   "execution_count": 24,
   "id": "d6ecfedb",
   "metadata": {},
   "outputs": [],
   "source": [
    "shutter_table = Table(msa_hdu_list['SHUTTER_INFO'].data)\n",
    "source_table  = Table(msa_hdu_list['SOURCE_INFO'].data)"
   ]
  },
  {
   "cell_type": "code",
   "execution_count": 25,
   "id": "a2aa4776",
   "metadata": {},
   "outputs": [
    {
     "data": {
      "text/plain": [
       "{1, 46, 146}"
      ]
     },
     "execution_count": 25,
     "metadata": {},
     "output_type": "execute_result"
    }
   ],
   "source": [
    "set(shutter_table['msa_metadata_id'])"
   ]
  },
  {
   "cell_type": "code",
   "execution_count": 26,
   "id": "33eaa543",
   "metadata": {},
   "outputs": [
    {
     "data": {
      "text/html": [
       "<div><i>Table length=3</i>\n",
       "<table id=\"table5659344144\" class=\"table-striped table-bordered table-condensed\">\n",
       "<thead><tr><th>slitlet_id</th><th>msa_metadata_id</th><th>shutter_quadrant</th><th>shutter_row</th><th>shutter_column</th><th>source_id</th><th>background</th><th>shutter_state</th><th>estimated_source_in_shutter_x</th><th>estimated_source_in_shutter_y</th><th>dither_point_index</th><th>primary_source</th></tr></thead>\n",
       "<thead><tr><th>int16</th><th>int16</th><th>int16</th><th>int16</th><th>int16</th><th>int32</th><th>str1</th><th>str6</th><th>float32</th><th>float32</th><th>int16</th><th>str1</th></tr></thead>\n",
       "<tr><td>162</td><td>146</td><td>2</td><td>341</td><td>144</td><td>-2</td><td>N</td><td>OPEN</td><td>0.5</td><td>0.5</td><td>1</td><td>Y</td></tr>\n",
       "<tr><td>164</td><td>146</td><td>2</td><td>343</td><td>104</td><td>-3</td><td>N</td><td>OPEN</td><td>0.5</td><td>0.5</td><td>1</td><td>Y</td></tr>\n",
       "<tr><td>213</td><td>146</td><td>3</td><td>250</td><td>62</td><td>-4</td><td>N</td><td>OPEN</td><td>0.5</td><td>0.5</td><td>1</td><td>Y</td></tr>\n",
       "</table></div>"
      ],
      "text/plain": [
       "<Table length=3>\n",
       "slitlet_id msa_metadata_id ... dither_point_index primary_source\n",
       "  int16         int16      ...       int16             str1     \n",
       "---------- --------------- ... ------------------ --------------\n",
       "       162             146 ...                  1              Y\n",
       "       164             146 ...                  1              Y\n",
       "       213             146 ...                  1              Y"
      ]
     },
     "execution_count": 26,
     "metadata": {},
     "output_type": "execute_result"
    }
   ],
   "source": [
    "#master_background_shutter_table = shutter_table_dither1[shutter_table_dither1['source_id'] < 0]\n",
    "\n",
    "master_background_shutter_table = filter_table(shutter_table, \n",
    "                                               #dither_point_index = 1, # There is only one\n",
    "                                               msa_metadata_id = 146, \n",
    "                                               source_id = lambda x: x < 0)  # is_negative\n",
    "\n",
    "# for longer multiple slitlets, pipeline tries to define primary_source in the middle (or close to it) in dither 1\n",
    "# ignore all that, and define them all as primary_source, not background\n",
    "master_background_shutter_table['primary_source'] = 'Y'\n",
    "master_background_shutter_table['background'] = 'N'\n",
    "master_background_shutter_table[:3]"
   ]
  },
  {
   "cell_type": "code",
   "execution_count": 27,
   "id": "61679fa0",
   "metadata": {},
   "outputs": [
    {
     "data": {
      "text/html": [
       "<div><i>Table length=3</i>\n",
       "<table id=\"table5688290896\" class=\"table-striped table-bordered table-condensed\">\n",
       "<thead><tr><th>program</th><th>source_id</th><th>source_name</th><th>alias</th><th>ra</th><th>dec</th><th>preimage_id</th><th>stellarity</th></tr></thead>\n",
       "<thead><tr><th>int32</th><th>int32</th><th>str20</th><th>str31</th><th>float64</th><th>float64</th><th>str30</th><th>float64</th></tr></thead>\n",
       "<tr><td>4246</td><td>-38</td><td>4246_-38</td><td>06:48:0.3377 +70:15:1.80</td><td>102.0014072688316</td><td>70.25050078700221</td><td>04246001_001</td><td>0.0</td></tr>\n",
       "<tr><td>4246</td><td>-37</td><td>4246_-37</td><td>06:48:0.3925 +70:14:54.22</td><td>102.0016355278552</td><td>70.24839575221984</td><td>04246001_001</td><td>0.0</td></tr>\n",
       "<tr><td>4246</td><td>-36</td><td>4246_-36</td><td>06:47:59.3266 +70:14:56.62</td><td>101.9971942814473</td><td>70.24906102776545</td><td>04246001_001</td><td>0.0</td></tr>\n",
       "</table></div>"
      ],
      "text/plain": [
       "<Table length=3>\n",
       "program source_id source_name ...        dec        preimage_id  stellarity\n",
       " int32    int32      str20    ...      float64         str30      float64  \n",
       "------- --------- ----------- ... ----------------- ------------ ----------\n",
       "   4246       -38    4246_-38 ... 70.25050078700221 04246001_001        0.0\n",
       "   4246       -37    4246_-37 ... 70.24839575221984 04246001_001        0.0\n",
       "   4246       -36    4246_-36 ... 70.24906102776545 04246001_001        0.0"
      ]
     },
     "execution_count": 27,
     "metadata": {},
     "output_type": "execute_result"
    }
   ],
   "source": [
    "master_background_source_table = filter_table(source_table, source_id = lambda x: x < 0)\n",
    "master_background_source_table[:3]"
   ]
  },
  {
   "cell_type": "code",
   "execution_count": 28,
   "id": "dc2e1a32",
   "metadata": {},
   "outputs": [
    {
     "data": {
      "text/plain": [
       "'reprocess/master-background'"
      ]
     },
     "execution_count": 28,
     "metadata": {},
     "output_type": "execute_result"
    }
   ],
   "source": [
    "output_dir"
   ]
  },
  {
   "cell_type": "code",
   "execution_count": 29,
   "id": "b7fa88ab",
   "metadata": {},
   "outputs": [
    {
     "data": {
      "text/plain": [
       "'jw04246003001_03_msa.fits'"
      ]
     },
     "execution_count": 29,
     "metadata": {},
     "output_type": "execute_result"
    }
   ],
   "source": [
    "msa_metafile"
   ]
  },
  {
   "cell_type": "code",
   "execution_count": 30,
   "id": "512bfbfd",
   "metadata": {},
   "outputs": [
    {
     "name": "stdout",
     "output_type": "stream",
     "text": [
      "Filename: reprocess/jw04246003001_03_msa.fits\n",
      "No.    Name      Ver    Type      Cards   Dimensions   Format\n",
      "  0  PRIMARY       1 PrimaryHDU      16   ()      \n",
      "  1  SHUTTER_IMAGE    1 ImageHDU         8   (342, 730)   int16   \n",
      "  2  SHUTTER_INFO    1 BinTableHDU     33   636R x 12C   ['I', 'I', 'I', 'I', 'I', 'J', '1A', '6A', 'E', 'E', 'I', '1A']   \n",
      "  3  SOURCE_INFO    1 BinTableHDU     25   179R x 8C   ['J', 'J', '20A', '31A', 'D', 'D', '30A', 'D']   \n"
     ]
    }
   ],
   "source": [
    "msa_hdu_list.info()"
   ]
  },
  {
   "cell_type": "code",
   "execution_count": 31,
   "id": "4b6628b8",
   "metadata": {},
   "outputs": [
    {
     "name": "stdout",
     "output_type": "stream",
     "text": [
      "Filename: reprocess/jw04246003001_03_msa.fits\n",
      "No.    Name      Ver    Type      Cards   Dimensions   Format\n",
      "  0  PRIMARY       1 PrimaryHDU      16   ()      \n",
      "  1  SHUTTER_IMAGE    1 ImageHDU         8   (342, 730)   int16   \n",
      "  2  SHUTTER_INFO    1 BinTableHDU     33   47R x 12C   ['I', 'I', 'I', 'I', 'I', 'J', '1A', '6A', 'E', 'E', 'I', '1A']   \n",
      "  3  SOURCE_INFO    1 BinTableHDU     25   38R x 8C   ['J', 'J', '20A', '31A', 'D', 'D', '30A', 'D']   \n"
     ]
    }
   ],
   "source": [
    "msa_hdu_list['SHUTTER_INFO'] = fits.table_to_hdu(master_background_shutter_table)\n",
    "msa_hdu_list['SOURCE_INFO']  = fits.table_to_hdu(master_background_source_table)\n",
    "\n",
    "msa_hdu_list[2].name = 'SHUTTER_INFO'\n",
    "msa_hdu_list[3].name = 'SOURCE_INFO'\n",
    "\n",
    "msa_hdu_list.info()"
   ]
  },
  {
   "cell_type": "code",
   "execution_count": 32,
   "id": "1a6fea8b",
   "metadata": {},
   "outputs": [
    {
     "name": "stdout",
     "output_type": "stream",
     "text": [
      "reprocess/master-background/jw04246003001_03_msa.fits\n"
     ]
    }
   ],
   "source": [
    "output_msa_metafile = os.path.join(output_dir, msa_metafile)\n",
    "print(output_msa_metafile)\n",
    "msa_hdu_list.writeto(output_msa_metafile, overwrite=True)"
   ]
  },
  {
   "cell_type": "markdown",
   "id": "59e75d0a",
   "metadata": {},
   "source": [
    "# Spec2"
   ]
  },
  {
   "cell_type": "code",
   "execution_count": 33,
   "id": "5e185afa",
   "metadata": {},
   "outputs": [
    {
     "data": {
      "text/plain": [
       "['reprocess/master-background/jw04246003001_03105_00001_nrs1_rate.fits',\n",
       " 'reprocess/master-background/jw04246003001_03105_00001_nrs2_rate.fits',\n",
       " 'reprocess/master-background/test_jw04246003001_03105_00001_nrs2_rate.fits']"
      ]
     },
     "execution_count": 33,
     "metadata": {},
     "output_type": "execute_result"
    }
   ],
   "source": [
    "rate_file_links"
   ]
  },
  {
   "cell_type": "code",
   "execution_count": 34,
   "id": "9489aa62",
   "metadata": {},
   "outputs": [
    {
     "data": {
      "text/plain": [
       "{'resample_spec': {'weight_type': 'ivm'},\n",
       " 'master_background_mos': {'skip': True}}"
      ]
     },
     "execution_count": 34,
     "metadata": {},
     "output_type": "execute_result"
    }
   ],
   "source": [
    "params_spec2 = {}\n",
    "params_spec2['resample_spec'] = {'weight_type':'ivm'} # pixel-based inverse read noise (vs. 'exptime' single value exposure time)\n",
    "params_spec2['master_background_mos'] = {'skip':True} # Need to set explicitly one way or the other. Otherwise, default skips exposure 1 but runs on exposures 2 and 3.\n",
    "params_spec2"
   ]
  },
  {
   "cell_type": "code",
   "execution_count": 35,
   "id": "ddb46678",
   "metadata": {
    "scrolled": true
   },
   "outputs": [
    {
     "name": "stdout",
     "output_type": "stream",
     "text": [
      "reprocess/master-background/jw04246003001_03105_00001_nrs1_rate.fits\n"
     ]
    },
    {
     "name": "stderr",
     "output_type": "stream",
     "text": [
      "2024-05-30 18:39:48,336 - CRDS - ERROR -  Error determining best reference for 'pars-nscleanstep'  =   Unknown reference type 'pars-nscleanstep'\n",
      "2024-05-30 18:39:48,373 - stpipe.Spec2Pipeline - INFO - Spec2Pipeline instance created.\n",
      "2024-05-30 18:39:48,374 - stpipe.Spec2Pipeline.assign_wcs - INFO - AssignWcsStep instance created.\n",
      "2024-05-30 18:39:48,375 - stpipe.Spec2Pipeline.msa_flagging - INFO - MSAFlagOpenStep instance created.\n",
      "2024-05-30 18:39:48,376 - stpipe.Spec2Pipeline.nsclean - INFO - NSCleanStep instance created.\n",
      "2024-05-30 18:39:48,377 - stpipe.Spec2Pipeline.bkg_subtract - INFO - BackgroundStep instance created.\n",
      "2024-05-30 18:39:48,378 - stpipe.Spec2Pipeline.imprint_subtract - INFO - ImprintStep instance created.\n",
      "2024-05-30 18:39:48,379 - stpipe.Spec2Pipeline.extract_2d - INFO - Extract2dStep instance created.\n",
      "2024-05-30 18:39:48,381 - stpipe.Spec2Pipeline.master_background_mos - INFO - MasterBackgroundMosStep instance created.\n",
      "2024-05-30 18:39:48,382 - stpipe.Spec2Pipeline.master_background_mos.flat_field - INFO - FlatFieldStep instance created.\n",
      "2024-05-30 18:39:48,383 - stpipe.Spec2Pipeline.master_background_mos.pathloss - INFO - PathLossStep instance created.\n",
      "2024-05-30 18:39:48,384 - stpipe.Spec2Pipeline.master_background_mos.barshadow - INFO - BarShadowStep instance created.\n",
      "2024-05-30 18:39:48,385 - stpipe.Spec2Pipeline.master_background_mos.photom - INFO - PhotomStep instance created.\n",
      "2024-05-30 18:39:48,386 - stpipe.Spec2Pipeline.wavecorr - INFO - WavecorrStep instance created.\n",
      "2024-05-30 18:39:48,387 - stpipe.Spec2Pipeline.flat_field - INFO - FlatFieldStep instance created.\n",
      "2024-05-30 18:39:48,387 - stpipe.Spec2Pipeline.srctype - INFO - SourceTypeStep instance created.\n",
      "2024-05-30 18:39:48,388 - stpipe.Spec2Pipeline.straylight - INFO - StraylightStep instance created.\n",
      "2024-05-30 18:39:48,390 - stpipe.Spec2Pipeline.fringe - INFO - FringeStep instance created.\n",
      "2024-05-30 18:39:48,391 - stpipe.Spec2Pipeline.residual_fringe - INFO - ResidualFringeStep instance created.\n",
      "2024-05-30 18:39:48,392 - stpipe.Spec2Pipeline.pathloss - INFO - PathLossStep instance created.\n",
      "2024-05-30 18:39:48,393 - stpipe.Spec2Pipeline.barshadow - INFO - BarShadowStep instance created.\n",
      "2024-05-30 18:39:48,394 - stpipe.Spec2Pipeline.wfss_contam - INFO - WfssContamStep instance created.\n",
      "2024-05-30 18:39:48,395 - stpipe.Spec2Pipeline.photom - INFO - PhotomStep instance created.\n",
      "2024-05-30 18:39:48,396 - stpipe.Spec2Pipeline.pixel_replace - INFO - PixelReplaceStep instance created.\n",
      "2024-05-30 18:39:48,397 - stpipe.Spec2Pipeline.resample_spec - INFO - ResampleSpecStep instance created.\n",
      "2024-05-30 18:39:48,399 - stpipe.Spec2Pipeline.cube_build - INFO - CubeBuildStep instance created.\n",
      "2024-05-30 18:39:48,401 - stpipe.Spec2Pipeline.extract_1d - INFO - Extract1dStep instance created.\n",
      "2024-05-30 18:39:48,469 - stpipe.Spec2Pipeline - INFO - Step Spec2Pipeline running with args ('reprocess/master-background/jw04246003001_03105_00001_nrs1_rate.fits',).\n",
      "2024-05-30 18:39:48,495 - stpipe.Spec2Pipeline - INFO - Step Spec2Pipeline parameters are:\n",
      "  pre_hooks: []\n",
      "  post_hooks: []\n",
      "  output_file: None\n",
      "  output_dir: reprocess/master-background\n",
      "  output_ext: .fits\n",
      "  output_use_model: False\n",
      "  output_use_index: True\n",
      "  save_results: True\n",
      "  skip: False\n",
      "  suffix: None\n",
      "  search_output_file: True\n",
      "  input_dir: ''\n",
      "  save_bsub: False\n",
      "  fail_on_exception: True\n",
      "  save_wfss_esec: False\n",
      "  steps:\n",
      "    assign_wcs:\n",
      "      pre_hooks: []\n",
      "      post_hooks: []\n",
      "      output_file: None\n",
      "      output_dir: None\n",
      "      output_ext: .fits\n",
      "      output_use_model: False\n",
      "      output_use_index: True\n",
      "      save_results: False\n",
      "      skip: False\n",
      "      suffix: None\n",
      "      search_output_file: True\n",
      "      input_dir: ''\n",
      "      sip_approx: True\n",
      "      sip_max_pix_error: 0.1\n",
      "      sip_degree: None\n",
      "      sip_max_inv_pix_error: 0.1\n",
      "      sip_inv_degree: None\n",
      "      sip_npoints: 12\n",
      "      slit_y_low: -0.55\n",
      "      slit_y_high: 0.55\n",
      "    msa_flagging:\n",
      "      pre_hooks: []\n",
      "      post_hooks: []\n",
      "      output_file: None\n",
      "      output_dir: None\n",
      "      output_ext: .fits\n",
      "      output_use_model: False\n",
      "      output_use_index: True\n",
      "      save_results: False\n",
      "      skip: False\n",
      "      suffix: None\n",
      "      search_output_file: True\n",
      "      input_dir: ''\n",
      "    nsclean:\n",
      "      pre_hooks: []\n",
      "      post_hooks: []\n",
      "      output_file: None\n",
      "      output_dir: None\n",
      "      output_ext: .fits\n",
      "      output_use_model: False\n",
      "      output_use_index: True\n",
      "      save_results: False\n",
      "      skip: True\n",
      "      suffix: None\n",
      "      search_output_file: True\n",
      "      input_dir: ''\n",
      "      mask_spectral_regions: True\n",
      "      n_sigma: 5.0\n",
      "      save_mask: False\n",
      "      user_mask: None\n",
      "    bkg_subtract:\n",
      "      pre_hooks: []\n",
      "      post_hooks: []\n",
      "      output_file: None\n",
      "      output_dir: None\n",
      "      output_ext: .fits\n",
      "      output_use_model: False\n",
      "      output_use_index: True\n",
      "      save_results: False\n",
      "      skip: False\n",
      "      suffix: None\n",
      "      search_output_file: True\n",
      "      input_dir: ''\n",
      "      save_combined_background: False\n",
      "      sigma: 3.0\n",
      "      maxiters: None\n",
      "      wfss_mmag_extract: None\n",
      "    imprint_subtract:\n",
      "      pre_hooks: []\n",
      "      post_hooks: []\n",
      "      output_file: None\n",
      "      output_dir: None\n",
      "      output_ext: .fits\n",
      "      output_use_model: False\n",
      "      output_use_index: True\n",
      "      save_results: False\n",
      "      skip: False\n",
      "      suffix: None\n",
      "      search_output_file: True\n",
      "      input_dir: ''\n",
      "    extract_2d:\n",
      "      pre_hooks: []\n",
      "      post_hooks: []\n",
      "      output_file: None\n",
      "      output_dir: None\n",
      "      output_ext: .fits\n",
      "      output_use_model: False\n",
      "      output_use_index: True\n",
      "      save_results: False\n",
      "      skip: False\n",
      "      suffix: None\n",
      "      search_output_file: True\n",
      "      input_dir: ''\n",
      "      slit_name: None\n",
      "      extract_orders: None\n",
      "      grism_objects: None\n",
      "      tsgrism_extract_height: None\n",
      "      wfss_extract_half_height: 5\n",
      "      wfss_mmag_extract: None\n",
      "      wfss_nbright: 1000\n",
      "    master_background_mos:\n",
      "      pre_hooks: []\n",
      "      post_hooks: []\n",
      "      output_file: None\n",
      "      output_dir: None\n",
      "      output_ext: .fits\n",
      "      output_use_model: True\n",
      "      output_use_index: True\n",
      "      save_results: False\n",
      "      skip: True\n",
      "      suffix: None\n",
      "      search_output_file: True\n",
      "      input_dir: ''\n",
      "      force_subtract: False\n",
      "      save_background: False\n",
      "      user_background: None\n",
      "      inverse: False\n",
      "      steps:\n",
      "        flat_field:\n",
      "          pre_hooks: []\n",
      "          post_hooks: []\n",
      "          output_file: None\n",
      "          output_dir: None\n",
      "          output_ext: .fits\n",
      "          output_use_model: False\n",
      "          output_use_index: True\n",
      "          save_results: False\n",
      "          skip: False\n",
      "          suffix: None\n",
      "          search_output_file: True\n",
      "          input_dir: ''\n",
      "          save_interpolated_flat: False\n",
      "          user_supplied_flat: None\n",
      "          inverse: False\n",
      "        pathloss:\n",
      "          pre_hooks: []\n",
      "          post_hooks: []\n",
      "          output_file: None\n",
      "          output_dir: None\n",
      "          output_ext: .fits\n",
      "          output_use_model: False\n",
      "          output_use_index: True\n",
      "          save_results: False\n",
      "          skip: False\n",
      "          suffix: None\n",
      "          search_output_file: True\n",
      "          input_dir: ''\n",
      "          inverse: False\n",
      "          source_type: None\n",
      "          user_slit_loc: None\n",
      "        barshadow:\n",
      "          pre_hooks: []\n",
      "          post_hooks: []\n",
      "          output_file: None\n",
      "          output_dir: None\n",
      "          output_ext: .fits\n",
      "          output_use_model: False\n",
      "          output_use_index: True\n",
      "          save_results: False\n",
      "          skip: False\n",
      "          suffix: None\n",
      "          search_output_file: True\n",
      "          input_dir: ''\n",
      "          inverse: False\n",
      "          source_type: None\n",
      "        photom:\n",
      "          pre_hooks: []\n",
      "          post_hooks: []\n",
      "          output_file: None\n",
      "          output_dir: None\n",
      "          output_ext: .fits\n",
      "          output_use_model: False\n",
      "          output_use_index: True\n",
      "          save_results: False\n",
      "          skip: False\n",
      "          suffix: None\n",
      "          search_output_file: True\n",
      "          input_dir: ''\n",
      "          inverse: False\n",
      "          source_type: None\n",
      "          mrs_time_correction: True\n",
      "    wavecorr:\n",
      "      pre_hooks: []\n",
      "      post_hooks: []\n",
      "      output_file: None\n",
      "      output_dir: None\n",
      "      output_ext: .fits\n",
      "      output_use_model: False\n",
      "      output_use_index: True\n",
      "      save_results: False\n",
      "      skip: False\n",
      "      suffix: None\n",
      "      search_output_file: True\n",
      "      input_dir: ''\n",
      "    flat_field:\n",
      "      pre_hooks: []\n",
      "      post_hooks: []\n",
      "      output_file: None\n",
      "      output_dir: None\n",
      "      output_ext: .fits\n",
      "      output_use_model: False\n",
      "      output_use_index: True\n",
      "      save_results: False\n",
      "      skip: False\n",
      "      suffix: None\n",
      "      search_output_file: True\n",
      "      input_dir: ''\n",
      "      save_interpolated_flat: False\n",
      "      user_supplied_flat: None\n",
      "      inverse: False\n",
      "    srctype:\n",
      "      pre_hooks: []\n",
      "      post_hooks: []\n",
      "      output_file: None\n",
      "      output_dir: None\n",
      "      output_ext: .fits\n",
      "      output_use_model: False\n",
      "      output_use_index: True\n",
      "      save_results: False\n",
      "      skip: False\n",
      "      suffix: None\n",
      "      search_output_file: True\n",
      "      input_dir: ''\n",
      "      source_type: None\n",
      "    straylight:\n",
      "      pre_hooks: []\n",
      "      post_hooks: []\n",
      "      output_file: None\n",
      "      output_dir: None\n",
      "      output_ext: .fits\n",
      "      output_use_model: False\n",
      "      output_use_index: True\n",
      "      save_results: False\n",
      "      skip: False\n",
      "      suffix: None\n",
      "      search_output_file: True\n",
      "      input_dir: ''\n",
      "    fringe:\n",
      "      pre_hooks: []\n",
      "      post_hooks: []\n",
      "      output_file: None\n",
      "      output_dir: None\n",
      "      output_ext: .fits\n",
      "      output_use_model: False\n",
      "      output_use_index: True\n",
      "      save_results: False\n",
      "      skip: False\n",
      "      suffix: None\n",
      "      search_output_file: True\n",
      "      input_dir: ''\n",
      "    residual_fringe:\n",
      "      pre_hooks: []\n",
      "      post_hooks: []\n",
      "      output_file: None\n",
      "      output_dir: None\n",
      "      output_ext: .fits\n",
      "      output_use_model: False\n",
      "      output_use_index: True\n",
      "      save_results: False\n",
      "      skip: True\n",
      "      suffix: residual_fringe\n",
      "      search_output_file: False\n",
      "      input_dir: ''\n",
      "      save_intermediate_results: False\n",
      "      ignore_region_min: None\n",
      "      ignore_region_max: None\n",
      "    pathloss:\n",
      "      pre_hooks: []\n",
      "      post_hooks: []\n",
      "      output_file: None\n",
      "      output_dir: None\n",
      "      output_ext: .fits\n",
      "      output_use_model: False\n",
      "      output_use_index: True\n",
      "      save_results: False\n",
      "      skip: False\n",
      "      suffix: None\n",
      "      search_output_file: True\n",
      "      input_dir: ''\n",
      "      inverse: False\n",
      "      source_type: None\n",
      "      user_slit_loc: None\n",
      "    barshadow:\n",
      "      pre_hooks: []\n",
      "      post_hooks: []\n",
      "      output_file: None\n",
      "      output_dir: None\n",
      "      output_ext: .fits\n",
      "      output_use_model: False\n",
      "      output_use_index: True\n",
      "      save_results: False\n",
      "      skip: False\n",
      "      suffix: None\n",
      "      search_output_file: True\n",
      "      input_dir: ''\n",
      "      inverse: False\n",
      "      source_type: None\n",
      "    wfss_contam:\n",
      "      pre_hooks: []\n",
      "      post_hooks: []\n",
      "      output_file: None\n",
      "      output_dir: None\n",
      "      output_ext: .fits\n",
      "      output_use_model: False\n",
      "      output_use_index: True\n",
      "      save_results: False\n",
      "      skip: True\n",
      "      suffix: None\n",
      "      search_output_file: True\n",
      "      input_dir: ''\n",
      "      save_simulated_image: False\n",
      "      save_contam_images: False\n",
      "      maximum_cores: none\n",
      "    photom:\n",
      "      pre_hooks: []\n",
      "      post_hooks: []\n",
      "      output_file: None\n",
      "      output_dir: None\n",
      "      output_ext: .fits\n",
      "      output_use_model: False\n",
      "      output_use_index: True\n",
      "      save_results: False\n",
      "      skip: False\n",
      "      suffix: None\n",
      "      search_output_file: True\n",
      "      input_dir: ''\n",
      "      inverse: False\n",
      "      source_type: None\n",
      "      mrs_time_correction: True\n",
      "    pixel_replace:\n",
      "      pre_hooks: []\n",
      "      post_hooks: []\n",
      "      output_file: None\n",
      "      output_dir: None\n",
      "      output_ext: .fits\n",
      "      output_use_model: False\n",
      "      output_use_index: True\n",
      "      save_results: False\n",
      "      skip: True\n",
      "      suffix: None\n",
      "      search_output_file: True\n",
      "      input_dir: ''\n",
      "      algorithm: fit_profile\n",
      "      n_adjacent_cols: 3\n",
      "    resample_spec:\n",
      "      pre_hooks: []\n",
      "      post_hooks: []\n",
      "      output_file: None\n",
      "      output_dir: None\n",
      "      output_ext: .fits\n",
      "      output_use_model: False\n",
      "      output_use_index: True\n",
      "      save_results: False\n",
      "      skip: False\n",
      "      suffix: None\n",
      "      search_output_file: True\n",
      "      input_dir: ''\n",
      "      pixfrac: 1.0\n",
      "      kernel: square\n",
      "      fillval: INDEF\n",
      "      weight_type: ivm\n",
      "      output_shape: None\n",
      "      crpix: None\n",
      "      crval: None\n",
      "      rotation: None\n",
      "      pixel_scale_ratio: 1.0\n",
      "      pixel_scale: None\n",
      "      output_wcs: ''\n",
      "      single: False\n",
      "      blendheaders: True\n",
      "      allowed_memory: None\n",
      "      in_memory: True\n",
      "    cube_build:\n",
      "      pre_hooks: []\n",
      "      post_hooks: []\n",
      "      output_file: None\n",
      "      output_dir: None\n",
      "      output_ext: .fits\n",
      "      output_use_model: True\n",
      "      output_use_index: True\n",
      "      save_results: False\n",
      "      skip: False\n",
      "      suffix: s3d\n",
      "      search_output_file: False\n",
      "      input_dir: ''\n",
      "      channel: all\n",
      "      band: all\n",
      "      grating: all\n",
      "      filter: all\n",
      "      output_type: None\n",
      "      scalexy: 0.0\n",
      "      scalew: 0.0\n",
      "      weighting: drizzle\n",
      "      coord_system: skyalign\n",
      "      ra_center: None\n",
      "      dec_center: None\n",
      "      cube_pa: None\n",
      "      nspax_x: None\n",
      "      nspax_y: None\n",
      "      rois: 0.0\n",
      "      roiw: 0.0\n",
      "      weight_power: 2.0\n",
      "      wavemin: None\n",
      "      wavemax: None\n",
      "      single: False\n",
      "      skip_dqflagging: False\n",
      "      debug_spaxel: -1 -1 -1\n",
      "    extract_1d:\n",
      "      pre_hooks: []\n",
      "      post_hooks: []\n",
      "      output_file: None\n",
      "      output_dir: None\n",
      "      output_ext: .fits\n",
      "      output_use_model: False\n",
      "      output_use_index: True\n",
      "      save_results: False\n",
      "      skip: False\n",
      "      suffix: None\n",
      "      search_output_file: True\n",
      "      input_dir: ''\n",
      "      smoothing_length: None\n",
      "      bkg_fit: None\n",
      "      bkg_order: None\n",
      "      bkg_sigma_clip: 3.0\n",
      "      log_increment: 50\n",
      "      subtract_background: None\n",
      "      use_source_posn: None\n",
      "      center_xy: None\n",
      "      apply_apcorr: True\n",
      "      ifu_autocen: False\n",
      "      ifu_rfcorr: False\n",
      "      ifu_set_srctype: None\n",
      "      ifu_rscale: None\n",
      "      soss_atoca: True\n",
      "      soss_threshold: 0.01\n",
      "      soss_n_os: 2\n",
      "      soss_wave_grid_in: None\n",
      "      soss_wave_grid_out: None\n",
      "      soss_estimate: None\n",
      "      soss_rtol: 0.0001\n",
      "      soss_max_grid_size: 20000\n",
      "      soss_transform: None\n",
      "      soss_tikfac: None\n",
      "      soss_width: 40.0\n",
      "      soss_bad_pix: masking\n",
      "      soss_modelname: None\n"
     ]
    },
    {
     "name": "stderr",
     "output_type": "stream",
     "text": [
      "2024-05-30 18:39:48,547 - stpipe.Spec2Pipeline - INFO - Prefetching reference files for dataset: 'jw04246003001_03105_00001_nrs1_rate.fits' reftypes = ['apcorr', 'area', 'barshadow', 'camera', 'collimator', 'cubepar', 'dflat', 'disperser', 'distortion', 'drizpars', 'extract1d', 'fflat', 'filteroffset', 'flat', 'fore', 'fpa', 'fringe', 'ifufore', 'ifupost', 'ifuslicer', 'mrsxartcorr', 'msa', 'msaoper', 'ote', 'pathloss', 'photom', 'regions', 'sflat', 'speckernel', 'specprofile', 'spectrace', 'specwcs', 'wavecorr', 'wavelengthrange', 'wavemap', 'wfssbkg']\n"
     ]
    },
    {
     "ename": "CrdsNetworkError",
     "evalue": "Failed downloading cache config from: JSON RPC service at 'https://crds-serverless-mode.stsci.edu': \"Configured for server-less mode.  Skipping JSON RPC 'get_server_info'\"",
     "output_type": "error",
     "traceback": [
      "\u001b[0;31m---------------------------------------------------------------------------\u001b[0m",
      "\u001b[0;31mServiceError\u001b[0m                              Traceback (most recent call last)",
      "File \u001b[0;32m~/miniconda3/envs/jwst_1.14.0/lib/python3.11/site-packages/crds/client/api.py:387\u001b[0m, in \u001b[0;36m_get_server_info\u001b[0;34m()\u001b[0m\n\u001b[1;32m    386\u001b[0m config_uri \u001b[38;5;241m=\u001b[39m \u001b[38;5;124mf\u001b[39m\u001b[38;5;124m\"\u001b[39m\u001b[38;5;124mJSON RPC service at \u001b[39m\u001b[38;5;124m'\u001b[39m\u001b[38;5;132;01m{\u001b[39;00mget_crds_server()\u001b[38;5;132;01m}\u001b[39;00m\u001b[38;5;124m'\u001b[39m\u001b[38;5;124m\"\u001b[39m\n\u001b[0;32m--> 387\u001b[0m info \u001b[38;5;241m=\u001b[39m \u001b[43mS\u001b[49m\u001b[38;5;241;43m.\u001b[39;49m\u001b[43mget_server_info\u001b[49m\u001b[43m(\u001b[49m\u001b[43m)\u001b[49m\n\u001b[1;32m    388\u001b[0m log\u001b[38;5;241m.\u001b[39mverbose(\u001b[38;5;124m\"\u001b[39m\u001b[38;5;124mConnected to server at\u001b[39m\u001b[38;5;124m\"\u001b[39m, srepr(get_crds_server()))\n",
      "File \u001b[0;32m~/miniconda3/envs/jwst_1.14.0/lib/python3.11/site-packages/crds/client/proxy.py:157\u001b[0m, in \u001b[0;36mServiceCallBinding.__call__\u001b[0;34m(self, *args, **kwargs)\u001b[0m\n\u001b[1;32m    156\u001b[0m \u001b[38;5;28;01mdef\u001b[39;00m \u001b[38;5;21m__call__\u001b[39m(\u001b[38;5;28mself\u001b[39m, \u001b[38;5;241m*\u001b[39margs, \u001b[38;5;241m*\u001b[39m\u001b[38;5;241m*\u001b[39mkwargs):\n\u001b[0;32m--> 157\u001b[0m     jsonrpc \u001b[38;5;241m=\u001b[39m \u001b[38;5;28;43mself\u001b[39;49m\u001b[38;5;241;43m.\u001b[39;49m\u001b[43m_call\u001b[49m\u001b[43m(\u001b[49m\u001b[38;5;241;43m*\u001b[39;49m\u001b[43margs\u001b[49m\u001b[43m,\u001b[49m\u001b[43m \u001b[49m\u001b[38;5;241;43m*\u001b[39;49m\u001b[38;5;241;43m*\u001b[39;49m\u001b[43mkwargs\u001b[49m\u001b[43m)\u001b[49m\n\u001b[1;32m    158\u001b[0m     \u001b[38;5;28;01mif\u001b[39;00m jsonrpc[\u001b[38;5;124m\"\u001b[39m\u001b[38;5;124merror\u001b[39m\u001b[38;5;124m\"\u001b[39m]:\n",
      "File \u001b[0;32m~/miniconda3/envs/jwst_1.14.0/lib/python3.11/site-packages/crds/client/proxy.py:121\u001b[0m, in \u001b[0;36mServiceCallBinding._call\u001b[0;34m(self, *args, **kwargs)\u001b[0m\n\u001b[1;32m    120\u001b[0m \u001b[38;5;28;01mif\u001b[39;00m \u001b[38;5;124m\"\u001b[39m\u001b[38;5;124mserverless\u001b[39m\u001b[38;5;124m\"\u001b[39m \u001b[38;5;129;01min\u001b[39;00m url \u001b[38;5;129;01mor\u001b[39;00m \u001b[38;5;124m\"\u001b[39m\u001b[38;5;124mserver-less\u001b[39m\u001b[38;5;124m\"\u001b[39m \u001b[38;5;129;01min\u001b[39;00m url:\n\u001b[0;32m--> 121\u001b[0m     \u001b[38;5;28;01mraise\u001b[39;00m exceptions\u001b[38;5;241m.\u001b[39mServiceError(\u001b[38;5;124m\"\u001b[39m\u001b[38;5;124mConfigured for server-less mode.  Skipping JSON RPC \u001b[39m\u001b[38;5;124m\"\u001b[39m \u001b[38;5;241m+\u001b[39m \u001b[38;5;28mrepr\u001b[39m(\u001b[38;5;28mself\u001b[39m\u001b[38;5;241m.\u001b[39m__service_name))\n\u001b[1;32m    123\u001b[0m \u001b[38;5;28;01mif\u001b[39;00m log\u001b[38;5;241m.\u001b[39mget_verbose() \u001b[38;5;241m<\u001b[39m\u001b[38;5;241m=\u001b[39m \u001b[38;5;241m50\u001b[39m:\n",
      "\u001b[0;31mServiceError\u001b[0m: Configured for server-less mode.  Skipping JSON RPC 'get_server_info'",
      "\nThe above exception was the direct cause of the following exception:\n",
      "\u001b[0;31mCrdsNetworkError\u001b[0m                          Traceback (most recent call last)",
      "Cell \u001b[0;32mIn[35], line 3\u001b[0m\n\u001b[1;32m      1\u001b[0m \u001b[38;5;28;01mfor\u001b[39;00m rate_file_link \u001b[38;5;129;01min\u001b[39;00m rate_file_links:\n\u001b[1;32m      2\u001b[0m     \u001b[38;5;28mprint\u001b[39m(rate_file_link)\n\u001b[0;32m----> 3\u001b[0m     spec2_result \u001b[38;5;241m=\u001b[39m \u001b[43mSpec2Pipeline\u001b[49m\u001b[38;5;241;43m.\u001b[39;49m\u001b[43mcall\u001b[49m\u001b[43m(\u001b[49m\n\u001b[1;32m      4\u001b[0m \u001b[43m            \u001b[49m\u001b[43mrate_file_link\u001b[49m\u001b[43m,\u001b[49m\n\u001b[1;32m      5\u001b[0m \u001b[43m            \u001b[49m\u001b[43msteps\u001b[49m\u001b[38;5;241;43m=\u001b[39;49m\u001b[43mparams_spec2\u001b[49m\u001b[43m,\u001b[49m\n\u001b[1;32m      6\u001b[0m \u001b[43m            \u001b[49m\u001b[43moutput_dir\u001b[49m\u001b[38;5;241;43m=\u001b[39;49m\u001b[43moutput_dir\u001b[49m\u001b[43m,\u001b[49m\n\u001b[1;32m      7\u001b[0m \u001b[43m            \u001b[49m\u001b[43msave_results\u001b[49m\u001b[38;5;241;43m=\u001b[39;49m\u001b[38;5;28;43;01mTrue\u001b[39;49;00m\u001b[43m,\u001b[49m\n\u001b[1;32m      8\u001b[0m \u001b[43m        \u001b[49m\u001b[43m)\u001b[49m\n",
      "File \u001b[0;32m~/miniconda3/envs/jwst_1.14.0/lib/python3.11/site-packages/stpipe/step.py:686\u001b[0m, in \u001b[0;36mStep.call\u001b[0;34m(cls, *args, **kwargs)\u001b[0m\n\u001b[1;32m    683\u001b[0m name \u001b[38;5;241m=\u001b[39m config\u001b[38;5;241m.\u001b[39mget(\u001b[38;5;124m\"\u001b[39m\u001b[38;5;124mname\u001b[39m\u001b[38;5;124m\"\u001b[39m, \u001b[38;5;28;01mNone\u001b[39;00m)\n\u001b[1;32m    684\u001b[0m instance \u001b[38;5;241m=\u001b[39m \u001b[38;5;28mcls\u001b[39m\u001b[38;5;241m.\u001b[39mfrom_config_section(config, name\u001b[38;5;241m=\u001b[39mname, config_file\u001b[38;5;241m=\u001b[39mconfig_file)\n\u001b[0;32m--> 686\u001b[0m \u001b[38;5;28;01mreturn\u001b[39;00m \u001b[43minstance\u001b[49m\u001b[38;5;241;43m.\u001b[39;49m\u001b[43mrun\u001b[49m\u001b[43m(\u001b[49m\u001b[38;5;241;43m*\u001b[39;49m\u001b[43margs\u001b[49m\u001b[43m)\u001b[49m\n",
      "File \u001b[0;32m~/miniconda3/envs/jwst_1.14.0/lib/python3.11/site-packages/stpipe/step.py:507\u001b[0m, in \u001b[0;36mStep.run\u001b[0;34m(self, *args)\u001b[0m\n\u001b[1;32m    505\u001b[0m \u001b[38;5;28;01melse\u001b[39;00m:\n\u001b[1;32m    506\u001b[0m     \u001b[38;5;28;01mif\u001b[39;00m \u001b[38;5;28mself\u001b[39m\u001b[38;5;241m.\u001b[39mprefetch_references:\n\u001b[0;32m--> 507\u001b[0m         \u001b[38;5;28;43mself\u001b[39;49m\u001b[38;5;241;43m.\u001b[39;49m\u001b[43mprefetch\u001b[49m\u001b[43m(\u001b[49m\u001b[38;5;241;43m*\u001b[39;49m\u001b[43margs\u001b[49m\u001b[43m)\u001b[49m\n\u001b[1;32m    508\u001b[0m     \u001b[38;5;28;01mtry\u001b[39;00m:\n\u001b[1;32m    509\u001b[0m         step_result \u001b[38;5;241m=\u001b[39m \u001b[38;5;28mself\u001b[39m\u001b[38;5;241m.\u001b[39mprocess(\u001b[38;5;241m*\u001b[39margs)\n",
      "File \u001b[0;32m~/miniconda3/envs/jwst_1.14.0/lib/python3.11/site-packages/stpipe/step.py:623\u001b[0m, in \u001b[0;36mStep.prefetch\u001b[0;34m(self, *args)\u001b[0m\n\u001b[1;32m    621\u001b[0m \u001b[38;5;66;03m# prefetch truly occurs at the Pipeline (or subclass) level.\u001b[39;00m\n\u001b[1;32m    622\u001b[0m \u001b[38;5;28;01mif\u001b[39;00m \u001b[38;5;28mlen\u001b[39m(args) \u001b[38;5;129;01mand\u001b[39;00m \u001b[38;5;28mlen\u001b[39m(\u001b[38;5;28mself\u001b[39m\u001b[38;5;241m.\u001b[39mreference_file_types) \u001b[38;5;129;01mand\u001b[39;00m \u001b[38;5;129;01mnot\u001b[39;00m \u001b[38;5;28mself\u001b[39m\u001b[38;5;241m.\u001b[39mskip:\n\u001b[0;32m--> 623\u001b[0m     \u001b[38;5;28;43mself\u001b[39;49m\u001b[38;5;241;43m.\u001b[39;49m\u001b[43m_precache_references\u001b[49m\u001b[43m(\u001b[49m\u001b[43margs\u001b[49m\u001b[43m[\u001b[49m\u001b[38;5;241;43m0\u001b[39;49m\u001b[43m]\u001b[49m\u001b[43m)\u001b[49m\n",
      "File \u001b[0;32m~/miniconda3/envs/jwst_1.14.0/lib/python3.11/site-packages/stpipe/pipeline.py:269\u001b[0m, in \u001b[0;36mPipeline._precache_references\u001b[0;34m(self, input_file)\u001b[0m\n\u001b[1;32m    265\u001b[0m \u001b[38;5;28;01mtry\u001b[39;00m:\n\u001b[1;32m    266\u001b[0m     \u001b[38;5;28;01mwith\u001b[39;00m \u001b[38;5;28mself\u001b[39m\u001b[38;5;241m.\u001b[39mopen_model(\n\u001b[1;32m    267\u001b[0m         input_file, asn_n_members\u001b[38;5;241m=\u001b[39m\u001b[38;5;241m1\u001b[39m, asn_exptypes\u001b[38;5;241m=\u001b[39m[\u001b[38;5;124m\"\u001b[39m\u001b[38;5;124mscience\u001b[39m\u001b[38;5;124m\"\u001b[39m]\n\u001b[1;32m    268\u001b[0m     ) \u001b[38;5;28;01mas\u001b[39;00m model:\n\u001b[0;32m--> 269\u001b[0m         \u001b[38;5;28;43mself\u001b[39;49m\u001b[38;5;241;43m.\u001b[39;49m\u001b[43m_precache_references_opened\u001b[49m\u001b[43m(\u001b[49m\u001b[43mmodel\u001b[49m\u001b[43m)\u001b[49m\n\u001b[1;32m    270\u001b[0m \u001b[38;5;28;01mexcept\u001b[39;00m (\u001b[38;5;167;01mValueError\u001b[39;00m, \u001b[38;5;167;01mTypeError\u001b[39;00m, \u001b[38;5;167;01mOSError\u001b[39;00m):\n\u001b[1;32m    271\u001b[0m     \u001b[38;5;28mself\u001b[39m\u001b[38;5;241m.\u001b[39mlog\u001b[38;5;241m.\u001b[39minfo(\u001b[38;5;124m\"\u001b[39m\u001b[38;5;124mFirst argument \u001b[39m\u001b[38;5;132;01m%s\u001b[39;00m\u001b[38;5;124m does not appear to be a model\u001b[39m\u001b[38;5;124m\"\u001b[39m, input_file)\n",
      "File \u001b[0;32m~/miniconda3/envs/jwst_1.14.0/lib/python3.11/site-packages/stpipe/pipeline.py:290\u001b[0m, in \u001b[0;36mPipeline._precache_references_opened\u001b[0;34m(self, model_or_container)\u001b[0m\n\u001b[1;32m    287\u001b[0m         \u001b[38;5;28mself\u001b[39m\u001b[38;5;241m.\u001b[39m_precache_references_opened(contained_model)\n\u001b[1;32m    288\u001b[0m \u001b[38;5;28;01melse\u001b[39;00m:\n\u001b[1;32m    289\u001b[0m     \u001b[38;5;66;03m# precache a single model object\u001b[39;00m\n\u001b[0;32m--> 290\u001b[0m     \u001b[38;5;28;43mself\u001b[39;49m\u001b[38;5;241;43m.\u001b[39;49m\u001b[43m_precache_references_impl\u001b[49m\u001b[43m(\u001b[49m\u001b[43mmodel_or_container\u001b[49m\u001b[43m)\u001b[49m\n",
      "File \u001b[0;32m~/miniconda3/envs/jwst_1.14.0/lib/python3.11/site-packages/stpipe/pipeline.py:317\u001b[0m, in \u001b[0;36mPipeline._precache_references_impl\u001b[0;34m(self, model)\u001b[0m\n\u001b[1;32m    310\u001b[0m fetch_types \u001b[38;5;241m=\u001b[39m \u001b[38;5;28msorted\u001b[39m(\u001b[38;5;28mset\u001b[39m(\u001b[38;5;28mself\u001b[39m\u001b[38;5;241m.\u001b[39mreference_file_types) \u001b[38;5;241m-\u001b[39m \u001b[38;5;28mset\u001b[39m(ovr_refs\u001b[38;5;241m.\u001b[39mkeys()))\n\u001b[1;32m    312\u001b[0m \u001b[38;5;28mself\u001b[39m\u001b[38;5;241m.\u001b[39mlog\u001b[38;5;241m.\u001b[39minfo(\n\u001b[1;32m    313\u001b[0m     \u001b[38;5;124m\"\u001b[39m\u001b[38;5;124mPrefetching reference files for dataset: \u001b[39m\u001b[38;5;132;01m%r\u001b[39;00m\u001b[38;5;124m reftypes = \u001b[39m\u001b[38;5;132;01m%r\u001b[39;00m\u001b[38;5;124m\"\u001b[39m,\n\u001b[1;32m    314\u001b[0m     model\u001b[38;5;241m.\u001b[39mmeta\u001b[38;5;241m.\u001b[39mfilename,\n\u001b[1;32m    315\u001b[0m     fetch_types,\n\u001b[1;32m    316\u001b[0m )\n\u001b[0;32m--> 317\u001b[0m crds_refs \u001b[38;5;241m=\u001b[39m \u001b[43mcrds_client\u001b[49m\u001b[38;5;241;43m.\u001b[39;49m\u001b[43mget_multiple_reference_paths\u001b[49m\u001b[43m(\u001b[49m\n\u001b[1;32m    318\u001b[0m \u001b[43m    \u001b[49m\u001b[43mmodel\u001b[49m\u001b[38;5;241;43m.\u001b[39;49m\u001b[43mget_crds_parameters\u001b[49m\u001b[43m(\u001b[49m\u001b[43m)\u001b[49m\u001b[43m,\u001b[49m\u001b[43m \u001b[49m\u001b[43mfetch_types\u001b[49m\u001b[43m,\u001b[49m\u001b[43m \u001b[49m\u001b[43mmodel\u001b[49m\u001b[38;5;241;43m.\u001b[39;49m\u001b[43mcrds_observatory\u001b[49m\n\u001b[1;32m    319\u001b[0m \u001b[43m\u001b[49m\u001b[43m)\u001b[49m\n\u001b[1;32m    321\u001b[0m ref_path_map \u001b[38;5;241m=\u001b[39m \u001b[38;5;28mdict\u001b[39m(\u001b[38;5;28mlist\u001b[39m(crds_refs\u001b[38;5;241m.\u001b[39mitems()) \u001b[38;5;241m+\u001b[39m \u001b[38;5;28mlist\u001b[39m(ovr_refs\u001b[38;5;241m.\u001b[39mitems()))\n\u001b[1;32m    323\u001b[0m \u001b[38;5;28;01mfor\u001b[39;00m reftype, refpath \u001b[38;5;129;01min\u001b[39;00m \u001b[38;5;28msorted\u001b[39m(ref_path_map\u001b[38;5;241m.\u001b[39mitems()):\n",
      "File \u001b[0;32m~/miniconda3/envs/jwst_1.14.0/lib/python3.11/site-packages/stpipe/crds_client.py:52\u001b[0m, in \u001b[0;36mget_multiple_reference_paths\u001b[0;34m(parameters, reference_file_types, observatory)\u001b[0m\n\u001b[1;32m     49\u001b[0m     \u001b[38;5;28;01mraise\u001b[39;00m \u001b[38;5;167;01mTypeError\u001b[39;00m(\u001b[38;5;124m\"\u001b[39m\u001b[38;5;124mFirst argument must be a dict of parameters\u001b[39m\u001b[38;5;124m\"\u001b[39m)\n\u001b[1;32m     51\u001b[0m log\u001b[38;5;241m.\u001b[39mset_log_time(\u001b[38;5;28;01mTrue\u001b[39;00m)\n\u001b[0;32m---> 52\u001b[0m \u001b[38;5;28;01mreturn\u001b[39;00m \u001b[43m_get_refpaths\u001b[49m\u001b[43m(\u001b[49m\u001b[43mparameters\u001b[49m\u001b[43m,\u001b[49m\u001b[43m \u001b[49m\u001b[38;5;28;43mtuple\u001b[39;49m\u001b[43m(\u001b[49m\u001b[43mreference_file_types\u001b[49m\u001b[43m)\u001b[49m\u001b[43m,\u001b[49m\u001b[43m \u001b[49m\u001b[43mobservatory\u001b[49m\u001b[43m)\u001b[49m\n",
      "File \u001b[0;32m~/miniconda3/envs/jwst_1.14.0/lib/python3.11/site-packages/stpipe/crds_client.py:64\u001b[0m, in \u001b[0;36m_get_refpaths\u001b[0;34m(data_dict, reference_file_types, observatory)\u001b[0m\n\u001b[1;32m     62\u001b[0m     \u001b[38;5;28;01mreturn\u001b[39;00m {}\n\u001b[1;32m     63\u001b[0m \u001b[38;5;28;01mwith\u001b[39;00m crds_cache_locking\u001b[38;5;241m.\u001b[39mget_cache_lock():\n\u001b[0;32m---> 64\u001b[0m     bestrefs \u001b[38;5;241m=\u001b[39m \u001b[43mcrds\u001b[49m\u001b[38;5;241;43m.\u001b[39;49m\u001b[43mgetreferences\u001b[49m\u001b[43m(\u001b[49m\n\u001b[1;32m     65\u001b[0m \u001b[43m        \u001b[49m\u001b[43mdata_dict\u001b[49m\u001b[43m,\u001b[49m\n\u001b[1;32m     66\u001b[0m \u001b[43m        \u001b[49m\u001b[43mreftypes\u001b[49m\u001b[38;5;241;43m=\u001b[39;49m\u001b[43mreference_file_types\u001b[49m\u001b[43m,\u001b[49m\n\u001b[1;32m     67\u001b[0m \u001b[43m        \u001b[49m\u001b[43mobservatory\u001b[49m\u001b[38;5;241;43m=\u001b[39;49m\u001b[43mobservatory\u001b[49m\u001b[43m,\u001b[49m\n\u001b[1;32m     68\u001b[0m \u001b[43m    \u001b[49m\u001b[43m)\u001b[49m\n\u001b[1;32m     69\u001b[0m \u001b[38;5;28;01mreturn\u001b[39;00m {\n\u001b[1;32m     70\u001b[0m     filetype: filepath \u001b[38;5;28;01mif\u001b[39;00m \u001b[38;5;124m\"\u001b[39m\u001b[38;5;124mN/A\u001b[39m\u001b[38;5;124m\"\u001b[39m \u001b[38;5;129;01mnot\u001b[39;00m \u001b[38;5;129;01min\u001b[39;00m filepath\u001b[38;5;241m.\u001b[39mupper() \u001b[38;5;28;01melse\u001b[39;00m \u001b[38;5;124m\"\u001b[39m\u001b[38;5;124mN/A\u001b[39m\u001b[38;5;124m\"\u001b[39m\n\u001b[1;32m     71\u001b[0m     \u001b[38;5;28;01mfor\u001b[39;00m (filetype, filepath) \u001b[38;5;129;01min\u001b[39;00m bestrefs\u001b[38;5;241m.\u001b[39mitems()\n\u001b[1;32m     72\u001b[0m }\n",
      "File \u001b[0;32m~/miniconda3/envs/jwst_1.14.0/lib/python3.11/site-packages/crds/core/heavy_client.py:127\u001b[0m, in \u001b[0;36mgetreferences\u001b[0;34m(parameters, reftypes, context, ignore_cache, observatory, fast)\u001b[0m\n\u001b[1;32m    122\u001b[0m final_context, bestrefs \u001b[38;5;241m=\u001b[39m _initial_recommendations(\u001b[38;5;124m\"\u001b[39m\u001b[38;5;124mgetreferences\u001b[39m\u001b[38;5;124m\"\u001b[39m,\n\u001b[1;32m    123\u001b[0m     parameters, reftypes, context, ignore_cache, observatory, fast)\n\u001b[1;32m    125\u001b[0m \u001b[38;5;66;03m# Attempt to cache the recommended references,  which unlike dump_mappings\u001b[39;00m\n\u001b[1;32m    126\u001b[0m \u001b[38;5;66;03m# should work without network access if files are already cached.\u001b[39;00m\n\u001b[0;32m--> 127\u001b[0m best_refs_paths \u001b[38;5;241m=\u001b[39m \u001b[43mapi\u001b[49m\u001b[38;5;241;43m.\u001b[39;49m\u001b[43mcache_references\u001b[49m\u001b[43m(\u001b[49m\n\u001b[1;32m    128\u001b[0m \u001b[43m    \u001b[49m\u001b[43mfinal_context\u001b[49m\u001b[43m,\u001b[49m\u001b[43m \u001b[49m\u001b[43mbestrefs\u001b[49m\u001b[43m,\u001b[49m\u001b[43m \u001b[49m\u001b[43mignore_cache\u001b[49m\u001b[38;5;241;43m=\u001b[39;49m\u001b[43mignore_cache\u001b[49m\u001b[43m)\u001b[49m\n\u001b[1;32m    130\u001b[0m \u001b[38;5;28;01mreturn\u001b[39;00m best_refs_paths\n",
      "File \u001b[0;32m~/miniconda3/envs/jwst_1.14.0/lib/python3.11/site-packages/crds/client/api.py:853\u001b[0m, in \u001b[0;36mcache_references\u001b[0;34m(pipeline_context, bestrefs, ignore_cache)\u001b[0m\n\u001b[1;32m    851\u001b[0m     localrefs \u001b[38;5;241m=\u001b[39m {name: get_flex_uri(name) \u001b[38;5;28;01mfor\u001b[39;00m name \u001b[38;5;129;01min\u001b[39;00m wanted}\n\u001b[1;32m    852\u001b[0m \u001b[38;5;28;01melse\u001b[39;00m:\n\u001b[0;32m--> 853\u001b[0m     localrefs \u001b[38;5;241m=\u001b[39m \u001b[43mFileCacher\u001b[49m\u001b[43m(\u001b[49m\u001b[43mpipeline_context\u001b[49m\u001b[43m,\u001b[49m\u001b[43m \u001b[49m\u001b[43mignore_cache\u001b[49m\u001b[43m,\u001b[49m\u001b[43m \u001b[49m\u001b[43mraise_exceptions\u001b[49m\u001b[38;5;241;43m=\u001b[39;49m\u001b[38;5;28;43;01mFalse\u001b[39;49;00m\u001b[43m)\u001b[49m\u001b[38;5;241;43m.\u001b[39;49m\u001b[43mget_local_files\u001b[49m\u001b[43m(\u001b[49m\u001b[43mwanted\u001b[49m\u001b[43m)\u001b[49m[\u001b[38;5;241m0\u001b[39m]\n\u001b[1;32m    855\u001b[0m refs \u001b[38;5;241m=\u001b[39m _squash_unicode_in_bestrefs(bestrefs, localrefs)\n\u001b[1;32m    857\u001b[0m \u001b[38;5;28;01mreturn\u001b[39;00m refs\n",
      "File \u001b[0;32m~/miniconda3/envs/jwst_1.14.0/lib/python3.11/site-packages/crds/client/api.py:594\u001b[0m, in \u001b[0;36mFileCacher.get_local_files\u001b[0;34m(self, names)\u001b[0m\n\u001b[1;32m    592\u001b[0m     localpaths[name] \u001b[38;5;241m=\u001b[39m localpath\n\u001b[1;32m    593\u001b[0m \u001b[38;5;28;01mif\u001b[39;00m downloads:\n\u001b[0;32m--> 594\u001b[0m     n_bytes \u001b[38;5;241m=\u001b[39m \u001b[38;5;28;43mself\u001b[39;49m\u001b[38;5;241;43m.\u001b[39;49m\u001b[43mdownload_files\u001b[49m\u001b[43m(\u001b[49m\u001b[43mdownloads\u001b[49m\u001b[43m,\u001b[49m\u001b[43m \u001b[49m\u001b[43mlocalpaths\u001b[49m\u001b[43m)\u001b[49m\n\u001b[1;32m    595\u001b[0m \u001b[38;5;28;01melse\u001b[39;00m:\n\u001b[1;32m    596\u001b[0m     log\u001b[38;5;241m.\u001b[39mverbose(\u001b[38;5;124m\"\u001b[39m\u001b[38;5;124mSkipping download for cached files\u001b[39m\u001b[38;5;124m\"\u001b[39m, \u001b[38;5;28msorted\u001b[39m(names), verbosity\u001b[38;5;241m=\u001b[39m\u001b[38;5;241m60\u001b[39m)\n",
      "File \u001b[0;32m~/miniconda3/envs/jwst_1.14.0/lib/python3.11/site-packages/crds/client/api.py:620\u001b[0m, in \u001b[0;36mFileCacher.download_files\u001b[0;34m(self, downloads, localpaths)\u001b[0m\n\u001b[1;32m    618\u001b[0m \u001b[38;5;28;01mdef\u001b[39;00m \u001b[38;5;21mdownload_files\u001b[39m(\u001b[38;5;28mself\u001b[39m, downloads, localpaths):\n\u001b[1;32m    619\u001b[0m \u001b[38;5;250m    \u001b[39m\u001b[38;5;124;03m\"\"\"Serial file-by-file download.\"\"\"\u001b[39;00m\n\u001b[0;32m--> 620\u001b[0m     download_metadata \u001b[38;5;241m=\u001b[39m \u001b[43mget_download_metadata\u001b[49m\u001b[43m(\u001b[49m\u001b[43m)\u001b[49m\n\u001b[1;32m    621\u001b[0m     \u001b[38;5;28mself\u001b[39m\u001b[38;5;241m.\u001b[39minfo_map \u001b[38;5;241m=\u001b[39m {}\n\u001b[1;32m    622\u001b[0m     \u001b[38;5;28;01mfor\u001b[39;00m filename \u001b[38;5;129;01min\u001b[39;00m downloads:\n",
      "File \u001b[0;32m~/miniconda3/envs/jwst_1.14.0/lib/python3.11/site-packages/crds/core/utils.py:306\u001b[0m, in \u001b[0;36mCachedFunction.__call__\u001b[0;34m(self, *args, **keys)\u001b[0m\n\u001b[1;32m    302\u001b[0m \u001b[38;5;28;01mdef\u001b[39;00m \u001b[38;5;21m__call__\u001b[39m(\u001b[38;5;28mself\u001b[39m, \u001b[38;5;241m*\u001b[39margs, \u001b[38;5;241m*\u001b[39m\u001b[38;5;241m*\u001b[39mkeys):\n\u001b[1;32m    303\u001b[0m \u001b[38;5;250m    \u001b[39m\u001b[38;5;124;03m\"\"\"Compute or fetch func(*args, **keys).  Add the result to the cache.\u001b[39;00m\n\u001b[1;32m    304\u001b[0m \u001b[38;5;124;03m    return func(*args, **keys)\u001b[39;00m\n\u001b[1;32m    305\u001b[0m \u001b[38;5;124;03m    \"\"\"\u001b[39;00m\n\u001b[0;32m--> 306\u001b[0m     key, result \u001b[38;5;241m=\u001b[39m \u001b[38;5;28;43mself\u001b[39;49m\u001b[38;5;241;43m.\u001b[39;49m\u001b[43m_readonly\u001b[49m\u001b[43m(\u001b[49m\u001b[38;5;241;43m*\u001b[39;49m\u001b[43margs\u001b[49m\u001b[43m,\u001b[49m\u001b[43m \u001b[49m\u001b[38;5;241;43m*\u001b[39;49m\u001b[38;5;241;43m*\u001b[39;49m\u001b[43mkeys\u001b[49m\u001b[43m)\u001b[49m\n\u001b[1;32m    307\u001b[0m     \u001b[38;5;28mself\u001b[39m\u001b[38;5;241m.\u001b[39mcache[key] \u001b[38;5;241m=\u001b[39m result\n\u001b[1;32m    308\u001b[0m     \u001b[38;5;28;01mreturn\u001b[39;00m result\n",
      "File \u001b[0;32m~/miniconda3/envs/jwst_1.14.0/lib/python3.11/site-packages/crds/core/utils.py:293\u001b[0m, in \u001b[0;36mCachedFunction._readonly\u001b[0;34m(self, *args, **keys)\u001b[0m\n\u001b[1;32m    291\u001b[0m \u001b[38;5;28;01melse\u001b[39;00m:\n\u001b[1;32m    292\u001b[0m     log\u001b[38;5;241m.\u001b[39mverbose(\u001b[38;5;124m\"\u001b[39m\u001b[38;5;124mUncached call\u001b[39m\u001b[38;5;124m\"\u001b[39m, \u001b[38;5;28mself\u001b[39m\u001b[38;5;241m.\u001b[39muncached\u001b[38;5;241m.\u001b[39m\u001b[38;5;18m__name__\u001b[39m, \u001b[38;5;28mrepr\u001b[39m(key), verbosity\u001b[38;5;241m=\u001b[39m\u001b[38;5;241m80\u001b[39m)\n\u001b[0;32m--> 293\u001b[0m     \u001b[38;5;28;01mreturn\u001b[39;00m key, \u001b[38;5;28;43mself\u001b[39;49m\u001b[38;5;241;43m.\u001b[39;49m\u001b[43muncached\u001b[49m\u001b[43m(\u001b[49m\u001b[38;5;241;43m*\u001b[39;49m\u001b[43margs\u001b[49m\u001b[43m,\u001b[49m\u001b[43m \u001b[49m\u001b[38;5;241;43m*\u001b[39;49m\u001b[38;5;241;43m*\u001b[39;49m\u001b[43mkeys\u001b[49m\u001b[43m)\u001b[49m\n",
      "File \u001b[0;32m~/miniconda3/envs/jwst_1.14.0/lib/python3.11/site-packages/crds/client/api.py:367\u001b[0m, in \u001b[0;36mget_download_metadata\u001b[0;34m()\u001b[0m\n\u001b[1;32m    364\u001b[0m \u001b[38;5;129m@utils\u001b[39m\u001b[38;5;241m.\u001b[39mcached\n\u001b[1;32m    365\u001b[0m \u001b[38;5;28;01mdef\u001b[39;00m \u001b[38;5;21mget_download_metadata\u001b[39m():\n\u001b[1;32m    366\u001b[0m     \u001b[38;5;124m\"\u001b[39m\u001b[38;5;124mDefer and cache decoding of download_metadata field of server info.\u001b[39m\u001b[38;5;124m\"\u001b[39m\u001b[38;5;124m\"\u001b[39m\u001b[38;5;124m\"\u001b[39m\n\u001b[0;32m--> 367\u001b[0m     info \u001b[38;5;241m=\u001b[39m \u001b[43mget_server_info\u001b[49m\u001b[43m(\u001b[49m\u001b[43m)\u001b[49m\n\u001b[1;32m    368\u001b[0m     \u001b[38;5;28;01mreturn\u001b[39;00m proxy\u001b[38;5;241m.\u001b[39mcrds_decode(info[\u001b[38;5;124m\"\u001b[39m\u001b[38;5;124mdownload_metadata\u001b[39m\u001b[38;5;124m\"\u001b[39m])\n",
      "File \u001b[0;32m~/miniconda3/envs/jwst_1.14.0/lib/python3.11/site-packages/crds/core/utils.py:306\u001b[0m, in \u001b[0;36mCachedFunction.__call__\u001b[0;34m(self, *args, **keys)\u001b[0m\n\u001b[1;32m    302\u001b[0m \u001b[38;5;28;01mdef\u001b[39;00m \u001b[38;5;21m__call__\u001b[39m(\u001b[38;5;28mself\u001b[39m, \u001b[38;5;241m*\u001b[39margs, \u001b[38;5;241m*\u001b[39m\u001b[38;5;241m*\u001b[39mkeys):\n\u001b[1;32m    303\u001b[0m \u001b[38;5;250m    \u001b[39m\u001b[38;5;124;03m\"\"\"Compute or fetch func(*args, **keys).  Add the result to the cache.\u001b[39;00m\n\u001b[1;32m    304\u001b[0m \u001b[38;5;124;03m    return func(*args, **keys)\u001b[39;00m\n\u001b[1;32m    305\u001b[0m \u001b[38;5;124;03m    \"\"\"\u001b[39;00m\n\u001b[0;32m--> 306\u001b[0m     key, result \u001b[38;5;241m=\u001b[39m \u001b[38;5;28;43mself\u001b[39;49m\u001b[38;5;241;43m.\u001b[39;49m\u001b[43m_readonly\u001b[49m\u001b[43m(\u001b[49m\u001b[38;5;241;43m*\u001b[39;49m\u001b[43margs\u001b[49m\u001b[43m,\u001b[49m\u001b[43m \u001b[49m\u001b[38;5;241;43m*\u001b[39;49m\u001b[38;5;241;43m*\u001b[39;49m\u001b[43mkeys\u001b[49m\u001b[43m)\u001b[49m\n\u001b[1;32m    307\u001b[0m     \u001b[38;5;28mself\u001b[39m\u001b[38;5;241m.\u001b[39mcache[key] \u001b[38;5;241m=\u001b[39m result\n\u001b[1;32m    308\u001b[0m     \u001b[38;5;28;01mreturn\u001b[39;00m result\n",
      "File \u001b[0;32m~/miniconda3/envs/jwst_1.14.0/lib/python3.11/site-packages/crds/core/utils.py:293\u001b[0m, in \u001b[0;36mCachedFunction._readonly\u001b[0;34m(self, *args, **keys)\u001b[0m\n\u001b[1;32m    291\u001b[0m \u001b[38;5;28;01melse\u001b[39;00m:\n\u001b[1;32m    292\u001b[0m     log\u001b[38;5;241m.\u001b[39mverbose(\u001b[38;5;124m\"\u001b[39m\u001b[38;5;124mUncached call\u001b[39m\u001b[38;5;124m\"\u001b[39m, \u001b[38;5;28mself\u001b[39m\u001b[38;5;241m.\u001b[39muncached\u001b[38;5;241m.\u001b[39m\u001b[38;5;18m__name__\u001b[39m, \u001b[38;5;28mrepr\u001b[39m(key), verbosity\u001b[38;5;241m=\u001b[39m\u001b[38;5;241m80\u001b[39m)\n\u001b[0;32m--> 293\u001b[0m     \u001b[38;5;28;01mreturn\u001b[39;00m key, \u001b[38;5;28;43mself\u001b[39;49m\u001b[38;5;241;43m.\u001b[39;49m\u001b[43muncached\u001b[49m\u001b[43m(\u001b[49m\u001b[38;5;241;43m*\u001b[39;49m\u001b[43margs\u001b[49m\u001b[43m,\u001b[49m\u001b[43m \u001b[49m\u001b[38;5;241;43m*\u001b[39;49m\u001b[38;5;241;43m*\u001b[39;49m\u001b[43mkeys\u001b[49m\u001b[43m)\u001b[49m\n",
      "File \u001b[0;32m~/miniconda3/envs/jwst_1.14.0/lib/python3.11/site-packages/crds/client/api.py:337\u001b[0m, in \u001b[0;36mget_server_info\u001b[0;34m()\u001b[0m\n\u001b[1;32m    322\u001b[0m \u001b[38;5;129m@utils\u001b[39m\u001b[38;5;241m.\u001b[39mcached\n\u001b[1;32m    323\u001b[0m \u001b[38;5;28;01mdef\u001b[39;00m \u001b[38;5;21mget_server_info\u001b[39m():\n\u001b[1;32m    324\u001b[0m \u001b[38;5;250m    \u001b[39m\u001b[38;5;124;03m\"\"\"Return a dictionary of critical parameters about the server such as:\u001b[39;00m\n\u001b[1;32m    325\u001b[0m \n\u001b[1;32m    326\u001b[0m \u001b[38;5;124;03m    operational_context  - the context in use in the operational pipeline\u001b[39;00m\n\u001b[0;32m   (...)\u001b[0m\n\u001b[1;32m    335\u001b[0m \u001b[38;5;124;03m    what context, software, and network mode should be used for processing.\u001b[39;00m\n\u001b[1;32m    336\u001b[0m \u001b[38;5;124;03m    \"\"\"\u001b[39;00m\n\u001b[0;32m--> 337\u001b[0m     info \u001b[38;5;241m=\u001b[39m \u001b[43m_get_server_info\u001b[49m\u001b[43m(\u001b[49m\u001b[43m)\u001b[49m\n\u001b[1;32m    338\u001b[0m     info[\u001b[38;5;124m\"\u001b[39m\u001b[38;5;124mserver\u001b[39m\u001b[38;5;124m\"\u001b[39m] \u001b[38;5;241m=\u001b[39m get_crds_server()\n\u001b[1;32m    339\u001b[0m     \u001b[38;5;66;03m# The original CRDS info struct features both \"checked\" and \"unchecked\"\u001b[39;00m\n\u001b[1;32m    340\u001b[0m     \u001b[38;5;66;03m# versions of the download URLs where the unchecked version is a simple\u001b[39;00m\n\u001b[1;32m    341\u001b[0m     \u001b[38;5;66;03m# static file which has been used exclusively for performance reasons.\u001b[39;00m\n\u001b[0;32m   (...)\u001b[0m\n\u001b[1;32m    345\u001b[0m     \u001b[38;5;66;03m# clients...  while older clients will continue to work with the simplified\u001b[39;00m\n\u001b[1;32m    346\u001b[0m     \u001b[38;5;66;03m# server.\u001b[39;00m\n",
      "File \u001b[0;32m~/miniconda3/envs/jwst_1.14.0/lib/python3.11/site-packages/crds/client/api.py:392\u001b[0m, in \u001b[0;36m_get_server_info\u001b[0;34m()\u001b[0m\n\u001b[1;32m    390\u001b[0m         info[\u001b[38;5;124m\"\u001b[39m\u001b[38;5;124mconnected\u001b[39m\u001b[38;5;124m\"\u001b[39m] \u001b[38;5;241m=\u001b[39m \u001b[38;5;28;01mTrue\u001b[39;00m\n\u001b[1;32m    391\u001b[0m \u001b[38;5;28;01mexcept\u001b[39;00m \u001b[38;5;167;01mException\u001b[39;00m \u001b[38;5;28;01mas\u001b[39;00m exc:\n\u001b[0;32m--> 392\u001b[0m     \u001b[38;5;28;01mraise\u001b[39;00m CrdsNetworkError(\n\u001b[1;32m    393\u001b[0m         \u001b[38;5;124mf\u001b[39m\u001b[38;5;124m\"\u001b[39m\u001b[38;5;124mFailed downloading cache config from: \u001b[39m\u001b[38;5;132;01m{\u001b[39;00mconfig_uri\u001b[38;5;132;01m}\u001b[39;00m\u001b[38;5;124m:\u001b[39m\u001b[38;5;124m\"\u001b[39m,\n\u001b[1;32m    394\u001b[0m         srepr(exc)) \u001b[38;5;28;01mfrom\u001b[39;00m \u001b[38;5;21;01mexc\u001b[39;00m\n\u001b[1;32m    395\u001b[0m \u001b[38;5;28;01mreturn\u001b[39;00m info\n",
      "\u001b[0;31mCrdsNetworkError\u001b[0m: Failed downloading cache config from: JSON RPC service at 'https://crds-serverless-mode.stsci.edu': \"Configured for server-less mode.  Skipping JSON RPC 'get_server_info'\""
     ]
    }
   ],
   "source": [
    "for rate_file_link in rate_file_links:\n",
    "    print(rate_file_link)\n",
    "    spec2_result = Spec2Pipeline.call(\n",
    "            rate_file_link,\n",
    "            steps=params_spec2,\n",
    "            output_dir=output_dir,\n",
    "            save_results=True,\n",
    "        )"
   ]
  },
  {
   "cell_type": "code",
   "execution_count": 39,
   "id": "0fa6ab5c",
   "metadata": {},
   "outputs": [
    {
     "data": {
      "text/plain": [
       "'reprocess/master-background/jw04246003001_03105_00001_nrs1_rate.fits'"
      ]
     },
     "execution_count": 39,
     "metadata": {},
     "output_type": "execute_result"
    }
   ],
   "source": [
    "rate_file_link"
   ]
  },
  {
   "cell_type": "code",
   "execution_count": 37,
   "id": "d681a60d",
   "metadata": {},
   "outputs": [],
   "source": [
    "test_rate_file = 'reprocess/test_jw04246003001_03105_00001_nrs2_rate.fits'"
   ]
  },
  {
   "cell_type": "code",
   "execution_count": 40,
   "id": "ea1ffda7",
   "metadata": {
    "scrolled": false
   },
   "outputs": [],
   "source": [
    "if 0:\n",
    "    spec2_result = Spec2Pipeline.call(\n",
    "            test_rate_file,\n",
    "            steps=params_spec2,\n",
    "            output_dir=output_dir,\n",
    "            save_results=True,\n",
    "        )"
   ]
  },
  {
   "cell_type": "code",
   "execution_count": 36,
   "id": "24863686",
   "metadata": {},
   "outputs": [],
   "source": [
    "if 0: #for rate_file_link in rate_file_links:\n",
    "    try:\n",
    "        spec2pipe = Spec2Pipeline()\n",
    "        #spec2pipe.resample_spec.weight_type = 'exptime' # better for high SNR data – see NS-MOS07 https://jwst-docs.stsci.edu/jwst-calibration-pipeline-caveats/jwst-nirspec-mos-pipeline-caveats\n",
    "        #spec2pipe.pathloss.skip = True  # Skip path loss corrections\n",
    "        #spec2pipe.nsclean.skip = False  # Run NSClean 1/f noise striping removal (implemented in pipeline version 1.12.6 but off by default)\n",
    "        spec2pipe.master_background_mos.skip = True  # Need to set explicitly one way or the other. Otherwise, default skips exposure 1 but runs on exposures 2 and 3.\n",
    "        spec2pipe.save_results = True\n",
    "        spec2pipe.output_dir = subset_dir\n",
    "        spec2_result = spec2pipe(rate_file_link)\n",
    "    except:\n",
    "        print('spec2pipe FAILED on', rate_file_link)    "
   ]
  },
  {
   "cell_type": "code",
   "execution_count": null,
   "id": "38afd733",
   "metadata": {},
   "outputs": [],
   "source": []
  },
  {
   "cell_type": "code",
   "execution_count": null,
   "id": "ba9a8dd2",
   "metadata": {},
   "outputs": [],
   "source": []
  },
  {
   "cell_type": "code",
   "execution_count": null,
   "id": "a2ce39e6",
   "metadata": {},
   "outputs": [],
   "source": []
  }
 ],
 "metadata": {
  "kernelspec": {
   "display_name": "Python 3 (ipykernel)",
   "language": "python",
   "name": "python3"
  },
  "language_info": {
   "codemirror_mode": {
    "name": "ipython",
    "version": 3
   },
   "file_extension": ".py",
   "mimetype": "text/x-python",
   "name": "python",
   "nbconvert_exporter": "python",
   "pygments_lexer": "ipython3",
   "version": "3.11.9"
  }
 },
 "nbformat": 4,
 "nbformat_minor": 5
}
